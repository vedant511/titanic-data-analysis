{
  "nbformat": 4,
  "nbformat_minor": 0,
  "metadata": {
    "colab": {
      "name": "Titanic_Analysis_and_Model.ipynb",
      "version": "0.3.2",
      "provenance": [],
      "collapsed_sections": [
        "gBonlsC0QRtH",
        "NTXuLWJCM8GZ",
        "k975CRVnNKwc",
        "juYSumdJOM9y",
        "MZYebUktQI-0",
        "0V36YhCaQisl",
        "lLXpEhe6QtxA",
        "A1u5JEpaL494",
        "nMUMpf0IeCR_",
        "HbVGhUpif2oa",
        "u1VvjTD-g4_o",
        "pV9qqrydmY-W",
        "xTdYTf1tmdIQ",
        "esXgw7JsnfOJ",
        "K1Cywz3YnibA",
        "kdY58kJYnxCa",
        "dlXPzgsppxUp",
        "I_yKfdlXweaV",
        "1fH4O3L0x0AK",
        "gDSJHoB7I2RR",
        "AOpMB0ZE3zm3",
        "chRlSXF85t3o"
      ],
      "toc_visible": true
    },
    "kernelspec": {
      "name": "python3",
      "display_name": "Python 3"
    }
  },
  "cells": [
    {
      "cell_type": "markdown",
      "metadata": {
        "id": "gBonlsC0QRtH",
        "colab_type": "text"
      },
      "source": [
        "# Analysis"
      ]
    },
    {
      "cell_type": "markdown",
      "metadata": {
        "id": "NTXuLWJCM8GZ",
        "colab_type": "text"
      },
      "source": [
        "## Import Libraries"
      ]
    },
    {
      "cell_type": "code",
      "metadata": {
        "id": "_uIRlp_iMYxk",
        "colab_type": "code",
        "colab": {}
      },
      "source": [
        "import pandas as pd\n",
        "import numpy as np\n",
        "import seaborn as sns\n",
        "import matplotlib.pyplot as plt\n",
        "from sklearn.model_selection import train_test_split\n",
        "from sklearn.metrics import classification_report"
      ],
      "execution_count": 0,
      "outputs": []
    },
    {
      "cell_type": "markdown",
      "metadata": {
        "id": "k975CRVnNKwc",
        "colab_type": "text"
      },
      "source": [
        "## Read data and take first look"
      ]
    },
    {
      "cell_type": "code",
      "metadata": {
        "id": "SMoNs7jtNKJY",
        "colab_type": "code",
        "colab": {}
      },
      "source": [
        "train_set = pd.read_csv('train.csv')\n",
        "test_set = pd.read_csv('test.csv')"
      ],
      "execution_count": 0,
      "outputs": []
    },
    {
      "cell_type": "markdown",
      "metadata": {
        "id": "yRO9UdObNkSl",
        "colab_type": "text"
      },
      "source": [
        "### Theoretical analysis"
      ]
    },
    {
      "cell_type": "code",
      "metadata": {
        "id": "2k-4EGGvNRqd",
        "colab_type": "code",
        "colab": {
          "base_uri": "https://localhost:8080/",
          "height": 484
        },
        "outputId": "0781c2ca-35fd-44dd-8ad9-aebd6df59e89"
      },
      "source": [
        "train_set.head()"
      ],
      "execution_count": 4,
      "outputs": [
        {
          "output_type": "execute_result",
          "data": {
            "text/html": [
              "<div>\n",
              "<style scoped>\n",
              "    .dataframe tbody tr th:only-of-type {\n",
              "        vertical-align: middle;\n",
              "    }\n",
              "\n",
              "    .dataframe tbody tr th {\n",
              "        vertical-align: top;\n",
              "    }\n",
              "\n",
              "    .dataframe thead th {\n",
              "        text-align: right;\n",
              "    }\n",
              "</style>\n",
              "<table border=\"1\" class=\"dataframe\">\n",
              "  <thead>\n",
              "    <tr style=\"text-align: right;\">\n",
              "      <th></th>\n",
              "      <th>PassengerId</th>\n",
              "      <th>Survived</th>\n",
              "      <th>Pclass</th>\n",
              "      <th>Name</th>\n",
              "      <th>Sex</th>\n",
              "      <th>Age</th>\n",
              "      <th>SibSp</th>\n",
              "      <th>Parch</th>\n",
              "      <th>Ticket</th>\n",
              "      <th>Fare</th>\n",
              "      <th>Cabin</th>\n",
              "      <th>Embarked</th>\n",
              "    </tr>\n",
              "  </thead>\n",
              "  <tbody>\n",
              "    <tr>\n",
              "      <th>0</th>\n",
              "      <td>1</td>\n",
              "      <td>0</td>\n",
              "      <td>3</td>\n",
              "      <td>Braund, Mr. Owen Harris</td>\n",
              "      <td>male</td>\n",
              "      <td>22.0</td>\n",
              "      <td>1</td>\n",
              "      <td>0</td>\n",
              "      <td>A/5 21171</td>\n",
              "      <td>7.2500</td>\n",
              "      <td>NaN</td>\n",
              "      <td>S</td>\n",
              "    </tr>\n",
              "    <tr>\n",
              "      <th>1</th>\n",
              "      <td>2</td>\n",
              "      <td>1</td>\n",
              "      <td>1</td>\n",
              "      <td>Cumings, Mrs. John Bradley (Florence Briggs Th...</td>\n",
              "      <td>female</td>\n",
              "      <td>38.0</td>\n",
              "      <td>1</td>\n",
              "      <td>0</td>\n",
              "      <td>PC 17599</td>\n",
              "      <td>71.2833</td>\n",
              "      <td>C85</td>\n",
              "      <td>C</td>\n",
              "    </tr>\n",
              "    <tr>\n",
              "      <th>2</th>\n",
              "      <td>3</td>\n",
              "      <td>1</td>\n",
              "      <td>3</td>\n",
              "      <td>Heikkinen, Miss. Laina</td>\n",
              "      <td>female</td>\n",
              "      <td>26.0</td>\n",
              "      <td>0</td>\n",
              "      <td>0</td>\n",
              "      <td>STON/O2. 3101282</td>\n",
              "      <td>7.9250</td>\n",
              "      <td>NaN</td>\n",
              "      <td>S</td>\n",
              "    </tr>\n",
              "    <tr>\n",
              "      <th>3</th>\n",
              "      <td>4</td>\n",
              "      <td>1</td>\n",
              "      <td>1</td>\n",
              "      <td>Futrelle, Mrs. Jacques Heath (Lily May Peel)</td>\n",
              "      <td>female</td>\n",
              "      <td>35.0</td>\n",
              "      <td>1</td>\n",
              "      <td>0</td>\n",
              "      <td>113803</td>\n",
              "      <td>53.1000</td>\n",
              "      <td>C123</td>\n",
              "      <td>S</td>\n",
              "    </tr>\n",
              "    <tr>\n",
              "      <th>4</th>\n",
              "      <td>5</td>\n",
              "      <td>0</td>\n",
              "      <td>3</td>\n",
              "      <td>Allen, Mr. William Henry</td>\n",
              "      <td>male</td>\n",
              "      <td>35.0</td>\n",
              "      <td>0</td>\n",
              "      <td>0</td>\n",
              "      <td>373450</td>\n",
              "      <td>8.0500</td>\n",
              "      <td>NaN</td>\n",
              "      <td>S</td>\n",
              "    </tr>\n",
              "  </tbody>\n",
              "</table>\n",
              "</div>"
            ],
            "text/plain": [
              "   PassengerId  Survived  Pclass  ...     Fare Cabin  Embarked\n",
              "0            1         0       3  ...   7.2500   NaN         S\n",
              "1            2         1       1  ...  71.2833   C85         C\n",
              "2            3         1       3  ...   7.9250   NaN         S\n",
              "3            4         1       1  ...  53.1000  C123         S\n",
              "4            5         0       3  ...   8.0500   NaN         S\n",
              "\n",
              "[5 rows x 12 columns]"
            ]
          },
          "metadata": {
            "tags": []
          },
          "execution_count": 4
        }
      ]
    },
    {
      "cell_type": "code",
      "metadata": {
        "id": "zu1HpYaGNUeS",
        "colab_type": "code",
        "colab": {
          "base_uri": "https://localhost:8080/",
          "height": 304
        },
        "outputId": "42e20311-6045-4001-c2ac-c6a29c6626ec"
      },
      "source": [
        "train_set.describe()"
      ],
      "execution_count": 5,
      "outputs": [
        {
          "output_type": "execute_result",
          "data": {
            "text/html": [
              "<div>\n",
              "<style scoped>\n",
              "    .dataframe tbody tr th:only-of-type {\n",
              "        vertical-align: middle;\n",
              "    }\n",
              "\n",
              "    .dataframe tbody tr th {\n",
              "        vertical-align: top;\n",
              "    }\n",
              "\n",
              "    .dataframe thead th {\n",
              "        text-align: right;\n",
              "    }\n",
              "</style>\n",
              "<table border=\"1\" class=\"dataframe\">\n",
              "  <thead>\n",
              "    <tr style=\"text-align: right;\">\n",
              "      <th></th>\n",
              "      <th>PassengerId</th>\n",
              "      <th>Survived</th>\n",
              "      <th>Pclass</th>\n",
              "      <th>Age</th>\n",
              "      <th>SibSp</th>\n",
              "      <th>Parch</th>\n",
              "      <th>Fare</th>\n",
              "    </tr>\n",
              "  </thead>\n",
              "  <tbody>\n",
              "    <tr>\n",
              "      <th>count</th>\n",
              "      <td>891.000000</td>\n",
              "      <td>891.000000</td>\n",
              "      <td>891.000000</td>\n",
              "      <td>714.000000</td>\n",
              "      <td>891.000000</td>\n",
              "      <td>891.000000</td>\n",
              "      <td>891.000000</td>\n",
              "    </tr>\n",
              "    <tr>\n",
              "      <th>mean</th>\n",
              "      <td>446.000000</td>\n",
              "      <td>0.383838</td>\n",
              "      <td>2.308642</td>\n",
              "      <td>29.699118</td>\n",
              "      <td>0.523008</td>\n",
              "      <td>0.381594</td>\n",
              "      <td>32.204208</td>\n",
              "    </tr>\n",
              "    <tr>\n",
              "      <th>std</th>\n",
              "      <td>257.353842</td>\n",
              "      <td>0.486592</td>\n",
              "      <td>0.836071</td>\n",
              "      <td>14.526497</td>\n",
              "      <td>1.102743</td>\n",
              "      <td>0.806057</td>\n",
              "      <td>49.693429</td>\n",
              "    </tr>\n",
              "    <tr>\n",
              "      <th>min</th>\n",
              "      <td>1.000000</td>\n",
              "      <td>0.000000</td>\n",
              "      <td>1.000000</td>\n",
              "      <td>0.420000</td>\n",
              "      <td>0.000000</td>\n",
              "      <td>0.000000</td>\n",
              "      <td>0.000000</td>\n",
              "    </tr>\n",
              "    <tr>\n",
              "      <th>25%</th>\n",
              "      <td>223.500000</td>\n",
              "      <td>0.000000</td>\n",
              "      <td>2.000000</td>\n",
              "      <td>20.125000</td>\n",
              "      <td>0.000000</td>\n",
              "      <td>0.000000</td>\n",
              "      <td>7.910400</td>\n",
              "    </tr>\n",
              "    <tr>\n",
              "      <th>50%</th>\n",
              "      <td>446.000000</td>\n",
              "      <td>0.000000</td>\n",
              "      <td>3.000000</td>\n",
              "      <td>28.000000</td>\n",
              "      <td>0.000000</td>\n",
              "      <td>0.000000</td>\n",
              "      <td>14.454200</td>\n",
              "    </tr>\n",
              "    <tr>\n",
              "      <th>75%</th>\n",
              "      <td>668.500000</td>\n",
              "      <td>1.000000</td>\n",
              "      <td>3.000000</td>\n",
              "      <td>38.000000</td>\n",
              "      <td>1.000000</td>\n",
              "      <td>0.000000</td>\n",
              "      <td>31.000000</td>\n",
              "    </tr>\n",
              "    <tr>\n",
              "      <th>max</th>\n",
              "      <td>891.000000</td>\n",
              "      <td>1.000000</td>\n",
              "      <td>3.000000</td>\n",
              "      <td>80.000000</td>\n",
              "      <td>8.000000</td>\n",
              "      <td>6.000000</td>\n",
              "      <td>512.329200</td>\n",
              "    </tr>\n",
              "  </tbody>\n",
              "</table>\n",
              "</div>"
            ],
            "text/plain": [
              "       PassengerId    Survived      Pclass  ...       SibSp       Parch        Fare\n",
              "count   891.000000  891.000000  891.000000  ...  891.000000  891.000000  891.000000\n",
              "mean    446.000000    0.383838    2.308642  ...    0.523008    0.381594   32.204208\n",
              "std     257.353842    0.486592    0.836071  ...    1.102743    0.806057   49.693429\n",
              "min       1.000000    0.000000    1.000000  ...    0.000000    0.000000    0.000000\n",
              "25%     223.500000    0.000000    2.000000  ...    0.000000    0.000000    7.910400\n",
              "50%     446.000000    0.000000    3.000000  ...    0.000000    0.000000   14.454200\n",
              "75%     668.500000    1.000000    3.000000  ...    1.000000    0.000000   31.000000\n",
              "max     891.000000    1.000000    3.000000  ...    8.000000    6.000000  512.329200\n",
              "\n",
              "[8 rows x 7 columns]"
            ]
          },
          "metadata": {
            "tags": []
          },
          "execution_count": 5
        }
      ]
    },
    {
      "cell_type": "code",
      "metadata": {
        "id": "ivoPNzX9NWGz",
        "colab_type": "code",
        "colab": {
          "base_uri": "https://localhost:8080/",
          "height": 302
        },
        "outputId": "68ef30f0-c8b6-4d90-9ca2-c6601b242899"
      },
      "source": [
        "train_set.info()\n"
      ],
      "execution_count": 6,
      "outputs": [
        {
          "output_type": "stream",
          "text": [
            "<class 'pandas.core.frame.DataFrame'>\n",
            "RangeIndex: 891 entries, 0 to 890\n",
            "Data columns (total 12 columns):\n",
            "PassengerId    891 non-null int64\n",
            "Survived       891 non-null int64\n",
            "Pclass         891 non-null int64\n",
            "Name           891 non-null object\n",
            "Sex            891 non-null object\n",
            "Age            714 non-null float64\n",
            "SibSp          891 non-null int64\n",
            "Parch          891 non-null int64\n",
            "Ticket         891 non-null object\n",
            "Fare           891 non-null float64\n",
            "Cabin          204 non-null object\n",
            "Embarked       889 non-null object\n",
            "dtypes: float64(2), int64(5), object(5)\n",
            "memory usage: 83.6+ KB\n"
          ],
          "name": "stdout"
        }
      ]
    },
    {
      "cell_type": "markdown",
      "metadata": {
        "id": "d5O3uGjaNhch",
        "colab_type": "text"
      },
      "source": [
        "### Visual  Analysis"
      ]
    },
    {
      "cell_type": "markdown",
      "metadata": {
        "id": "gMXCEIZONb2x",
        "colab_type": "text"
      },
      "source": [
        "Plots of survival based on Categorical Columns-\n",
        "\n",
        "1. SibSp\n",
        "2. Sex\n",
        "3. Pclass\n",
        "4. Embarked\n",
        "5. Parch\n",
        "6. Survived (Yes or No)"
      ]
    },
    {
      "cell_type": "code",
      "metadata": {
        "id": "RQ7wAPc3NXzP",
        "colab_type": "code",
        "colab": {
          "base_uri": "https://localhost:8080/",
          "height": 588
        },
        "outputId": "317b4b4c-db9e-45a4-99de-1b7f799e4b14"
      },
      "source": [
        "cat_cols = ['Survived', 'Sex', 'Pclass', 'Embarked', 'Parch', 'SibSp']\n",
        "fig, axs = plt.subplots(2, 3, figsize=(16, 9))\n",
        "plt.subplots_adjust(left=None, bottom=None, right=None, top=None, wspace=0.3, hspace=0.3)\n",
        "\n",
        "\n",
        "\n",
        "for i in range(2):\n",
        "    for j in range(3):\n",
        "        c = i * 3 + j\n",
        "        ax = axs[i][j]\n",
        "    \n",
        "        sns.countplot(train_set[cat_cols[c]], hue=train_set['Survived'], ax = ax)\n",
        "        ax.set_title(cat_cols[c], fontsize=14, fontweight='bold')\n",
        "        ax.grid()\n"
      ],
      "execution_count": 7,
      "outputs": [
        {
          "output_type": "display_data",
          "data": {
            "image/png": "[encoded data removed]",
            "text/plain": [
              "<Figure size 1152x648 with 6 Axes>"
            ]
          },
          "metadata": {
            "tags": []
          }
        }
      ]
    },
    {
      "cell_type": "markdown",
      "metadata": {
        "id": "C6weyanfNwfg",
        "colab_type": "text"
      },
      "source": [
        "Distribution of Age based on Pclass, Sex and Survival"
      ]
    },
    {
      "cell_type": "code",
      "metadata": {
        "id": "zldppLNyNtpT",
        "colab_type": "code",
        "colab": {
          "base_uri": "https://localhost:8080/",
          "height": 494
        },
        "outputId": "1abc7cec-cc73-476f-cb75-8251ba7045e5"
      },
      "source": [
        "bins = np.arange(0, 80, 5)\n",
        "g = sns.FacetGrid(train_set, row='Sex', col='Pclass', hue='Survived', margin_titles=True, size=3, aspect=1.1)\n",
        "g.map(sns.distplot, 'Age', kde=False, bins=bins, hist_kws=dict(alpha=0.6))\n",
        "g.add_legend()\n",
        "plt.show()  \n"
      ],
      "execution_count": 8,
      "outputs": [
        {
          "output_type": "stream",
          "text": [
            "/usr/local/lib/python3.6/dist-packages/seaborn/axisgrid.py:230: UserWarning: The `size` paramter has been renamed to `height`; please update your code.\n",
            "  warnings.warn(msg, UserWarning)\n"
          ],
          "name": "stderr"
        },
        {
          "output_type": "display_data",
          "data": {
            "image/png": "[encoded data removed]",
            "text/plain": [
              "<Figure size 764.675x432 with 6 Axes>"
            ]
          },
          "metadata": {
            "tags": []
          }
        }
      ]
    },
    {
      "cell_type": "markdown",
      "metadata": {
        "id": "OVhppExXtga3",
        "colab_type": "text"
      },
      "source": [
        "Distribution of Age based on Embarked, Sex and Survival"
      ]
    },
    {
      "cell_type": "code",
      "metadata": {
        "id": "32Z7n85RtkVe",
        "colab_type": "code",
        "outputId": "c243fb31-7a25-4a84-8cfb-1b5d0b0e88cf",
        "colab": {
          "base_uri": "https://localhost:8080/",
          "height": 494
        }
      },
      "source": [
        "bins = np.arange(0, 80, 5)\n",
        "g = sns.FacetGrid(train_set, row='Sex', col='Embarked', hue='Survived', margin_titles=True, size=3, aspect=1.1)\n",
        "g.map(sns.distplot, 'Age', kde=False, bins=bins, hist_kws=dict(alpha=0.6))\n",
        "g.add_legend()\n",
        "plt.show()  "
      ],
      "execution_count": 9,
      "outputs": [
        {
          "output_type": "stream",
          "text": [
            "/usr/local/lib/python3.6/dist-packages/seaborn/axisgrid.py:230: UserWarning: The `size` paramter has been renamed to `height`; please update your code.\n",
            "  warnings.warn(msg, UserWarning)\n"
          ],
          "name": "stderr"
        },
        {
          "output_type": "display_data",
          "data": {
            "image/png": "[encoded data removed]",
            "text/plain": [
              "<Figure size 764.675x432 with 6 Axes>"
            ]
          },
          "metadata": {
            "tags": []
          }
        }
      ]
    },
    {
      "cell_type": "markdown",
      "metadata": {
        "id": "EWhJguRKt8DO",
        "colab_type": "text"
      },
      "source": [
        "Distribution of Fare based on Pclass, Sex and Survival"
      ]
    },
    {
      "cell_type": "code",
      "metadata": {
        "id": "fVr6VzrqOFXU",
        "colab_type": "code",
        "colab": {
          "base_uri": "https://localhost:8080/",
          "height": 494
        },
        "outputId": "8df2d4d7-39fa-4a5f-9172-add00fb92e3d"
      },
      "source": [
        "bins = np.arange(0, 550, 50)\n",
        "g = sns.FacetGrid(train_set, row='Sex', col='Pclass', hue='Survived', margin_titles=True, size=3, aspect=1.1)\n",
        "g.map(sns.distplot, 'Fare', kde=False, bins=bins, hist_kws=dict(alpha=0.6))\n",
        "g.add_legend()\n",
        "plt.show()  "
      ],
      "execution_count": 10,
      "outputs": [
        {
          "output_type": "stream",
          "text": [
            "/usr/local/lib/python3.6/dist-packages/seaborn/axisgrid.py:230: UserWarning: The `size` paramter has been renamed to `height`; please update your code.\n",
            "  warnings.warn(msg, UserWarning)\n"
          ],
          "name": "stderr"
        },
        {
          "output_type": "display_data",
          "data": {
            "image/png": "[encoded data removed]",
            "text/plain": [
              "<Figure size 764.675x432 with 6 Axes>"
            ]
          },
          "metadata": {
            "tags": []
          }
        }
      ]
    },
    {
      "cell_type": "markdown",
      "metadata": {
        "id": "T39mY8Y6OI3J",
        "colab_type": "text"
      },
      "source": [
        "Distribution of Fare based on Embarked, Sex and Survival"
      ]
    },
    {
      "cell_type": "code",
      "metadata": {
        "id": "OIFQub_DOG2H",
        "colab_type": "code",
        "colab": {
          "base_uri": "https://localhost:8080/",
          "height": 494
        },
        "outputId": "159b3a72-29de-405b-80ca-e42134dbfdce"
      },
      "source": [
        "bins = np.arange(0, 550, 50)\n",
        "g = sns.FacetGrid(train_set, row='Sex', col='Embarked', hue='Survived', margin_titles=True, size=3, aspect=1.1)\n",
        "g.map(sns.distplot, 'Fare', kde=False, bins=bins, hist_kws=dict(alpha=0.6))\n",
        "g.add_legend()\n",
        "plt.show()  "
      ],
      "execution_count": 11,
      "outputs": [
        {
          "output_type": "stream",
          "text": [
            "/usr/local/lib/python3.6/dist-packages/seaborn/axisgrid.py:230: UserWarning: The `size` paramter has been renamed to `height`; please update your code.\n",
            "  warnings.warn(msg, UserWarning)\n"
          ],
          "name": "stderr"
        },
        {
          "output_type": "display_data",
          "data": {
            "image/png": "[encoded data removed]",
            "text/plain": [
              "<Figure size 764.675x432 with 6 Axes>"
            ]
          },
          "metadata": {
            "tags": []
          }
        }
      ]
    },
    {
      "cell_type": "markdown",
      "metadata": {
        "id": "juYSumdJOM9y",
        "colab_type": "text"
      },
      "source": [
        "## Missing Value Analysis"
      ]
    },
    {
      "cell_type": "code",
      "metadata": {
        "id": "j90DOWMdOLDu",
        "colab_type": "code",
        "colab": {}
      },
      "source": [
        "def missing_zero_values_table(df):\n",
        "    zero_val = (df == 0.00).astype(int).sum(axis=0)\n",
        "    mis_val = df.isnull().sum()\n",
        "    mis_val_percent = 100 * df.isnull().sum() / len(df)\n",
        "    mz_table = pd.concat([zero_val, mis_val, mis_val_percent], axis=1)\n",
        "    mz_table = mz_table.rename(\n",
        "    columns = {0 : 'Zero Values', 1 : 'Missing Values', 2 : '% of Total Values'})\n",
        "    mz_table['Data Type'] = df.dtypes\n",
        "    mz_table = mz_table[\n",
        "        mz_table.iloc[:,1] != 0].sort_values(\n",
        "    '% of Total Values', ascending=False).round(1)\n",
        "    print (\"Your selected dataframe has \" + str(df.shape[1]) + \" columns and \" + str(df.shape[0]) + \" Rows.\\n\"      \n",
        "        \"There are \" + str(mz_table.shape[0]) +\n",
        "          \" columns that have missing values.\")\n",
        "    return mz_table"
      ],
      "execution_count": 0,
      "outputs": []
    },
    {
      "cell_type": "code",
      "metadata": {
        "id": "L6u3nnPEORdA",
        "colab_type": "code",
        "colab": {
          "base_uri": "https://localhost:8080/",
          "height": 170
        },
        "outputId": "01e1f413-c9b3-4fd4-e91a-70137a8f1cce"
      },
      "source": [
        "missing_zero_values_table(train_set)"
      ],
      "execution_count": 13,
      "outputs": [
        {
          "output_type": "stream",
          "text": [
            "Your selected dataframe has 12 columns and 891 Rows.\n",
            "There are 3 columns that have missing values.\n"
          ],
          "name": "stdout"
        },
        {
          "output_type": "execute_result",
          "data": {
            "text/html": [
              "<div>\n",
              "<style scoped>\n",
              "    .dataframe tbody tr th:only-of-type {\n",
              "        vertical-align: middle;\n",
              "    }\n",
              "\n",
              "    .dataframe tbody tr th {\n",
              "        vertical-align: top;\n",
              "    }\n",
              "\n",
              "    .dataframe thead th {\n",
              "        text-align: right;\n",
              "    }\n",
              "</style>\n",
              "<table border=\"1\" class=\"dataframe\">\n",
              "  <thead>\n",
              "    <tr style=\"text-align: right;\">\n",
              "      <th></th>\n",
              "      <th>Zero Values</th>\n",
              "      <th>Missing Values</th>\n",
              "      <th>% of Total Values</th>\n",
              "      <th>Data Type</th>\n",
              "    </tr>\n",
              "  </thead>\n",
              "  <tbody>\n",
              "    <tr>\n",
              "      <th>Cabin</th>\n",
              "      <td>0</td>\n",
              "      <td>687</td>\n",
              "      <td>77.1</td>\n",
              "      <td>object</td>\n",
              "    </tr>\n",
              "    <tr>\n",
              "      <th>Age</th>\n",
              "      <td>0</td>\n",
              "      <td>177</td>\n",
              "      <td>19.9</td>\n",
              "      <td>float64</td>\n",
              "    </tr>\n",
              "    <tr>\n",
              "      <th>Embarked</th>\n",
              "      <td>0</td>\n",
              "      <td>2</td>\n",
              "      <td>0.2</td>\n",
              "      <td>object</td>\n",
              "    </tr>\n",
              "  </tbody>\n",
              "</table>\n",
              "</div>"
            ],
            "text/plain": [
              "          Zero Values  Missing Values  % of Total Values Data Type\n",
              "Cabin               0             687               77.1    object\n",
              "Age                 0             177               19.9   float64\n",
              "Embarked            0               2                0.2    object"
            ]
          },
          "metadata": {
            "tags": []
          },
          "execution_count": 13
        }
      ]
    },
    {
      "cell_type": "markdown",
      "metadata": {
        "id": "fATaXNbXOVrJ",
        "colab_type": "text"
      },
      "source": [
        "**Cabin:** More than 3/4th values are missing, so just ignore this variable as imputing might lead to wrong results <br>\n",
        "**Age:** Important feature, need to do further analysis to impute the age values for those missing <br>\n",
        "**Embarked:** Another importanyt feature and just 2 missing values which can be possibly filled manually with some further analysis"
      ]
    },
    {
      "cell_type": "code",
      "metadata": {
        "id": "WZV7bybsOTWJ",
        "colab_type": "code",
        "colab": {
          "base_uri": "https://localhost:8080/",
          "height": 170
        },
        "outputId": "6e19b2e9-03bb-4e00-8ee9-d689629ae312"
      },
      "source": [
        "missing_zero_values_table(test_set)"
      ],
      "execution_count": 14,
      "outputs": [
        {
          "output_type": "stream",
          "text": [
            "Your selected dataframe has 11 columns and 418 Rows.\n",
            "There are 3 columns that have missing values.\n"
          ],
          "name": "stdout"
        },
        {
          "output_type": "execute_result",
          "data": {
            "text/html": [
              "<div>\n",
              "<style scoped>\n",
              "    .dataframe tbody tr th:only-of-type {\n",
              "        vertical-align: middle;\n",
              "    }\n",
              "\n",
              "    .dataframe tbody tr th {\n",
              "        vertical-align: top;\n",
              "    }\n",
              "\n",
              "    .dataframe thead th {\n",
              "        text-align: right;\n",
              "    }\n",
              "</style>\n",
              "<table border=\"1\" class=\"dataframe\">\n",
              "  <thead>\n",
              "    <tr style=\"text-align: right;\">\n",
              "      <th></th>\n",
              "      <th>Zero Values</th>\n",
              "      <th>Missing Values</th>\n",
              "      <th>% of Total Values</th>\n",
              "      <th>Data Type</th>\n",
              "    </tr>\n",
              "  </thead>\n",
              "  <tbody>\n",
              "    <tr>\n",
              "      <th>Cabin</th>\n",
              "      <td>0</td>\n",
              "      <td>327</td>\n",
              "      <td>78.2</td>\n",
              "      <td>object</td>\n",
              "    </tr>\n",
              "    <tr>\n",
              "      <th>Age</th>\n",
              "      <td>0</td>\n",
              "      <td>86</td>\n",
              "      <td>20.6</td>\n",
              "      <td>float64</td>\n",
              "    </tr>\n",
              "    <tr>\n",
              "      <th>Fare</th>\n",
              "      <td>2</td>\n",
              "      <td>1</td>\n",
              "      <td>0.2</td>\n",
              "      <td>float64</td>\n",
              "    </tr>\n",
              "  </tbody>\n",
              "</table>\n",
              "</div>"
            ],
            "text/plain": [
              "       Zero Values  Missing Values  % of Total Values Data Type\n",
              "Cabin            0             327               78.2    object\n",
              "Age              0              86               20.6   float64\n",
              "Fare             2               1                0.2   float64"
            ]
          },
          "metadata": {
            "tags": []
          },
          "execution_count": 14
        }
      ]
    },
    {
      "cell_type": "markdown",
      "metadata": {
        "id": "vnAb-7_fOlbe",
        "colab_type": "text"
      },
      "source": [
        "### Analysis of Emarked"
      ]
    },
    {
      "cell_type": "code",
      "metadata": {
        "id": "xIgh1d_lOjqx",
        "colab_type": "code",
        "colab": {
          "base_uri": "https://localhost:8080/",
          "height": 244
        },
        "outputId": "5ca9afe7-cdfe-46c5-f926-616136998163"
      },
      "source": [
        "train_set[train_set['Embarked'].isna()]\n"
      ],
      "execution_count": 15,
      "outputs": [
        {
          "output_type": "execute_result",
          "data": {
            "text/html": [
              "<div>\n",
              "<style scoped>\n",
              "    .dataframe tbody tr th:only-of-type {\n",
              "        vertical-align: middle;\n",
              "    }\n",
              "\n",
              "    .dataframe tbody tr th {\n",
              "        vertical-align: top;\n",
              "    }\n",
              "\n",
              "    .dataframe thead th {\n",
              "        text-align: right;\n",
              "    }\n",
              "</style>\n",
              "<table border=\"1\" class=\"dataframe\">\n",
              "  <thead>\n",
              "    <tr style=\"text-align: right;\">\n",
              "      <th></th>\n",
              "      <th>PassengerId</th>\n",
              "      <th>Survived</th>\n",
              "      <th>Pclass</th>\n",
              "      <th>Name</th>\n",
              "      <th>Sex</th>\n",
              "      <th>Age</th>\n",
              "      <th>SibSp</th>\n",
              "      <th>Parch</th>\n",
              "      <th>Ticket</th>\n",
              "      <th>Fare</th>\n",
              "      <th>Cabin</th>\n",
              "      <th>Embarked</th>\n",
              "    </tr>\n",
              "  </thead>\n",
              "  <tbody>\n",
              "    <tr>\n",
              "      <th>61</th>\n",
              "      <td>62</td>\n",
              "      <td>1</td>\n",
              "      <td>1</td>\n",
              "      <td>Icard, Miss. Amelie</td>\n",
              "      <td>female</td>\n",
              "      <td>38.0</td>\n",
              "      <td>0</td>\n",
              "      <td>0</td>\n",
              "      <td>113572</td>\n",
              "      <td>80.0</td>\n",
              "      <td>B28</td>\n",
              "      <td>NaN</td>\n",
              "    </tr>\n",
              "    <tr>\n",
              "      <th>829</th>\n",
              "      <td>830</td>\n",
              "      <td>1</td>\n",
              "      <td>1</td>\n",
              "      <td>Stone, Mrs. George Nelson (Martha Evelyn)</td>\n",
              "      <td>female</td>\n",
              "      <td>62.0</td>\n",
              "      <td>0</td>\n",
              "      <td>0</td>\n",
              "      <td>113572</td>\n",
              "      <td>80.0</td>\n",
              "      <td>B28</td>\n",
              "      <td>NaN</td>\n",
              "    </tr>\n",
              "  </tbody>\n",
              "</table>\n",
              "</div>"
            ],
            "text/plain": [
              "     PassengerId  Survived  Pclass  ...  Fare Cabin  Embarked\n",
              "61            62         1       1  ...  80.0   B28       NaN\n",
              "829          830         1       1  ...  80.0   B28       NaN\n",
              "\n",
              "[2 rows x 12 columns]"
            ]
          },
          "metadata": {
            "tags": []
          },
          "execution_count": 15
        }
      ]
    },
    {
      "cell_type": "code",
      "metadata": {
        "id": "RORLoqapOnmQ",
        "colab_type": "code",
        "colab": {
          "base_uri": "https://localhost:8080/",
          "height": 67
        },
        "outputId": "a280b690-6656-47ff-b1fb-3772f006e6f9"
      },
      "source": [
        "train_set[(train_set['Pclass']==1) & (train_set['Embarked']=='Q')]['Sex'].value_counts()"
      ],
      "execution_count": 16,
      "outputs": [
        {
          "output_type": "execute_result",
          "data": {
            "text/plain": [
              "male      1\n",
              "female    1\n",
              "Name: Sex, dtype: int64"
            ]
          },
          "metadata": {
            "tags": []
          },
          "execution_count": 16
        }
      ]
    },
    {
      "cell_type": "markdown",
      "metadata": {
        "id": "AUgykAhbOs8E",
        "colab_type": "text"
      },
      "source": [
        "Mode will be a good measure to impute the two missing values for Embarked in data"
      ]
    },
    {
      "cell_type": "code",
      "metadata": {
        "id": "3J9zpAoWOpbt",
        "colab_type": "code",
        "colab": {
          "base_uri": "https://localhost:8080/",
          "height": 205
        },
        "outputId": "102173ef-b2b2-4a47-ecd0-6361bb8ac709"
      },
      "source": [
        "train_set['Embarked'][61] = 'S'\n",
        "train_set['Embarked'][829] = 'S'"
      ],
      "execution_count": 17,
      "outputs": [
        {
          "output_type": "stream",
          "text": [
            "/usr/local/lib/python3.6/dist-packages/ipykernel_launcher.py:1: SettingWithCopyWarning: \n",
            "A value is trying to be set on a copy of a slice from a DataFrame\n",
            "\n",
            "See the caveats in the documentation: http://pandas.pydata.org/pandas-docs/stable/indexing.html#indexing-view-versus-copy\n",
            "  \"\"\"Entry point for launching an IPython kernel.\n",
            "/usr/local/lib/python3.6/dist-packages/ipykernel_launcher.py:2: SettingWithCopyWarning: \n",
            "A value is trying to be set on a copy of a slice from a DataFrame\n",
            "\n",
            "See the caveats in the documentation: http://pandas.pydata.org/pandas-docs/stable/indexing.html#indexing-view-versus-copy\n",
            "  \n"
          ],
          "name": "stderr"
        }
      ]
    },
    {
      "cell_type": "markdown",
      "metadata": {
        "id": "MI8vvzN1OxX_",
        "colab_type": "text"
      },
      "source": [
        "### Analysis of Age"
      ]
    },
    {
      "cell_type": "code",
      "metadata": {
        "id": "R1Iv-pGDOu6w",
        "colab_type": "code",
        "colab": {
          "base_uri": "https://localhost:8080/",
          "height": 67
        },
        "outputId": "07cd1b56-4615-4ce8-837a-7df079255ffa"
      },
      "source": [
        "train_set[train_set['Age'].isna()]['Sex'].value_counts()"
      ],
      "execution_count": 18,
      "outputs": [
        {
          "output_type": "execute_result",
          "data": {
            "text/plain": [
              "male      124\n",
              "female     53\n",
              "Name: Sex, dtype: int64"
            ]
          },
          "metadata": {
            "tags": []
          },
          "execution_count": 18
        }
      ]
    },
    {
      "cell_type": "markdown",
      "metadata": {
        "id": "zdV4lK1BO2Qi",
        "colab_type": "text"
      },
      "source": [
        "We can fill up Age based with Median with Categories of Passenger based on Sex, Pclass, Fare, Embarked. But there are a few other variables which can decide age like Family Size and the Title or Salutation. So we will impute the age later after creating those variables in Feature Engineering."
      ]
    },
    {
      "cell_type": "markdown",
      "metadata": {
        "id": "nnGwaK1CO4kH",
        "colab_type": "text"
      },
      "source": [
        "### Analysis of Fare"
      ]
    },
    {
      "cell_type": "code",
      "metadata": {
        "id": "8Z-ienJqO0D1",
        "colab_type": "code",
        "colab": {
          "base_uri": "https://localhost:8080/",
          "height": 130
        },
        "outputId": "73c10d1f-6fcd-40dd-c581-e25fc5b95f4f"
      },
      "source": [
        "test_set[test_set['Fare'].isna()]"
      ],
      "execution_count": 19,
      "outputs": [
        {
          "output_type": "execute_result",
          "data": {
            "text/html": [
              "<div>\n",
              "<style scoped>\n",
              "    .dataframe tbody tr th:only-of-type {\n",
              "        vertical-align: middle;\n",
              "    }\n",
              "\n",
              "    .dataframe tbody tr th {\n",
              "        vertical-align: top;\n",
              "    }\n",
              "\n",
              "    .dataframe thead th {\n",
              "        text-align: right;\n",
              "    }\n",
              "</style>\n",
              "<table border=\"1\" class=\"dataframe\">\n",
              "  <thead>\n",
              "    <tr style=\"text-align: right;\">\n",
              "      <th></th>\n",
              "      <th>PassengerId</th>\n",
              "      <th>Pclass</th>\n",
              "      <th>Name</th>\n",
              "      <th>Sex</th>\n",
              "      <th>Age</th>\n",
              "      <th>SibSp</th>\n",
              "      <th>Parch</th>\n",
              "      <th>Ticket</th>\n",
              "      <th>Fare</th>\n",
              "      <th>Cabin</th>\n",
              "      <th>Embarked</th>\n",
              "    </tr>\n",
              "  </thead>\n",
              "  <tbody>\n",
              "    <tr>\n",
              "      <th>152</th>\n",
              "      <td>1044</td>\n",
              "      <td>3</td>\n",
              "      <td>Storey, Mr. Thomas</td>\n",
              "      <td>male</td>\n",
              "      <td>60.5</td>\n",
              "      <td>0</td>\n",
              "      <td>0</td>\n",
              "      <td>3701</td>\n",
              "      <td>NaN</td>\n",
              "      <td>NaN</td>\n",
              "      <td>S</td>\n",
              "    </tr>\n",
              "  </tbody>\n",
              "</table>\n",
              "</div>"
            ],
            "text/plain": [
              "     PassengerId  Pclass                Name   Sex  ...  Ticket  Fare  Cabin Embarked\n",
              "152         1044       3  Storey, Mr. Thomas  male  ...    3701   NaN    NaN        S\n",
              "\n",
              "[1 rows x 11 columns]"
            ]
          },
          "metadata": {
            "tags": []
          },
          "execution_count": 19
        }
      ]
    },
    {
      "cell_type": "markdown",
      "metadata": {
        "id": "Woy7N1_MO8GC",
        "colab_type": "text"
      },
      "source": [
        "The missing Fare value can be filled with the Median Fare of Pclass 3 and Embarkment port S"
      ]
    },
    {
      "cell_type": "code",
      "metadata": {
        "id": "NL7sV7nKO6mD",
        "colab_type": "code",
        "colab": {}
      },
      "source": [
        "test_set.at[152, 'Fare'] = np.nanmedian(test_set[(test_set['Pclass']==3) & (test_set['Embarked']=='S')]['Fare'])"
      ],
      "execution_count": 0,
      "outputs": []
    },
    {
      "cell_type": "code",
      "metadata": {
        "id": "nUBoBDAgO-J3",
        "colab_type": "code",
        "colab": {
          "base_uri": "https://localhost:8080/",
          "height": 34
        },
        "outputId": "61bd04fd-2f3d-4191-bf48-ac63e5164abf"
      },
      "source": [
        "test_set['Fare'][152]"
      ],
      "execution_count": 21,
      "outputs": [
        {
          "output_type": "execute_result",
          "data": {
            "text/plain": [
              "8.05"
            ]
          },
          "metadata": {
            "tags": []
          },
          "execution_count": 21
        }
      ]
    },
    {
      "cell_type": "markdown",
      "metadata": {
        "id": "5eEM1aqXPApD",
        "colab_type": "text"
      },
      "source": [
        "## Feature Engineering"
      ]
    },
    {
      "cell_type": "markdown",
      "metadata": {
        "id": "W8UsPA8_PFIN",
        "colab_type": "text"
      },
      "source": [
        "### Create the FamilySize Variable"
      ]
    },
    {
      "cell_type": "code",
      "metadata": {
        "id": "bbnlUGoeO_fY",
        "colab_type": "code",
        "colab": {}
      },
      "source": [
        "train_set['FamilySize'] = train_set['SibSp'] + train_set['Parch'] + 1\n",
        "test_set['FamilySize'] = test_set['SibSp'] + test_set['Parch'] + 1"
      ],
      "execution_count": 0,
      "outputs": []
    },
    {
      "cell_type": "markdown",
      "metadata": {
        "id": "Y3_ks3Zz517p",
        "colab_type": "text"
      },
      "source": [
        "### Create the Title variable"
      ]
    },
    {
      "cell_type": "markdown",
      "metadata": {
        "id": "3i_bA9NK59H3",
        "colab_type": "text"
      },
      "source": [
        "For that let's first analyze the structure of names closely"
      ]
    },
    {
      "cell_type": "code",
      "metadata": {
        "id": "fiANh25050mc",
        "colab_type": "code",
        "outputId": "6a069df5-5450-4bc5-d13a-fb4dc4467a5b",
        "colab": {
          "base_uri": "https://localhost:8080/",
          "height": 1000
        }
      },
      "source": [
        "train_set['Name']"
      ],
      "execution_count": 23,
      "outputs": [
        {
          "output_type": "execute_result",
          "data": {
            "text/plain": [
              "0                                Braund, Mr. Owen Harris\n",
              "1      Cumings, Mrs. John Bradley (Florence Briggs Th...\n",
              "2                                 Heikkinen, Miss. Laina\n",
              "3           Futrelle, Mrs. Jacques Heath (Lily May Peel)\n",
              "4                               Allen, Mr. William Henry\n",
              "5                                       Moran, Mr. James\n",
              "6                                McCarthy, Mr. Timothy J\n",
              "7                         Palsson, Master. Gosta Leonard\n",
              "8      Johnson, Mrs. Oscar W (Elisabeth Vilhelmina Berg)\n",
              "9                    Nasser, Mrs. Nicholas (Adele Achem)\n",
              "10                       Sandstrom, Miss. Marguerite Rut\n",
              "11                              Bonnell, Miss. Elizabeth\n",
              "12                        Saundercock, Mr. William Henry\n",
              "13                           Andersson, Mr. Anders Johan\n",
              "14                  Vestrom, Miss. Hulda Amanda Adolfina\n",
              "15                      Hewlett, Mrs. (Mary D Kingcome) \n",
              "16                                  Rice, Master. Eugene\n",
              "17                          Williams, Mr. Charles Eugene\n",
              "18     Vander Planke, Mrs. Julius (Emelia Maria Vande...\n",
              "19                               Masselmani, Mrs. Fatima\n",
              "20                                  Fynney, Mr. Joseph J\n",
              "21                                 Beesley, Mr. Lawrence\n",
              "22                           McGowan, Miss. Anna \"Annie\"\n",
              "23                          Sloper, Mr. William Thompson\n",
              "24                         Palsson, Miss. Torborg Danira\n",
              "25     Asplund, Mrs. Carl Oscar (Selma Augusta Emilia...\n",
              "26                               Emir, Mr. Farred Chehab\n",
              "27                        Fortune, Mr. Charles Alexander\n",
              "28                         O'Dwyer, Miss. Ellen \"Nellie\"\n",
              "29                                   Todoroff, Mr. Lalio\n",
              "                             ...                        \n",
              "861                          Giles, Mr. Frederick Edward\n",
              "862    Swift, Mrs. Frederick Joel (Margaret Welles Ba...\n",
              "863                    Sage, Miss. Dorothy Edith \"Dolly\"\n",
              "864                               Gill, Mr. John William\n",
              "865                             Bystrom, Mrs. (Karolina)\n",
              "866                         Duran y More, Miss. Asuncion\n",
              "867                 Roebling, Mr. Washington Augustus II\n",
              "868                          van Melkebeke, Mr. Philemon\n",
              "869                      Johnson, Master. Harold Theodor\n",
              "870                                    Balkic, Mr. Cerin\n",
              "871     Beckwith, Mrs. Richard Leonard (Sallie Monypeny)\n",
              "872                             Carlsson, Mr. Frans Olof\n",
              "873                          Vander Cruyssen, Mr. Victor\n",
              "874                Abelson, Mrs. Samuel (Hannah Wizosky)\n",
              "875                     Najib, Miss. Adele Kiamie \"Jane\"\n",
              "876                        Gustafsson, Mr. Alfred Ossian\n",
              "877                                 Petroff, Mr. Nedelio\n",
              "878                                   Laleff, Mr. Kristo\n",
              "879        Potter, Mrs. Thomas Jr (Lily Alexenia Wilson)\n",
              "880         Shelley, Mrs. William (Imanita Parrish Hall)\n",
              "881                                   Markun, Mr. Johann\n",
              "882                         Dahlberg, Miss. Gerda Ulrika\n",
              "883                        Banfield, Mr. Frederick James\n",
              "884                               Sutehall, Mr. Henry Jr\n",
              "885                 Rice, Mrs. William (Margaret Norton)\n",
              "886                                Montvila, Rev. Juozas\n",
              "887                         Graham, Miss. Margaret Edith\n",
              "888             Johnston, Miss. Catherine Helen \"Carrie\"\n",
              "889                                Behr, Mr. Karl Howell\n",
              "890                                  Dooley, Mr. Patrick\n",
              "Name: Name, Length: 891, dtype: object"
            ]
          },
          "metadata": {
            "tags": []
          },
          "execution_count": 23
        }
      ]
    },
    {
      "cell_type": "markdown",
      "metadata": {
        "id": "857gzW226PcX",
        "colab_type": "text"
      },
      "source": [
        "Clearly a trend can be seen in the names\n"
      ]
    },
    {
      "cell_type": "markdown",
      "metadata": {
        "id": "g591c6aR6T-C",
        "colab_type": "text"
      },
      "source": [
        "Let's create a function to extract the title based on that trend"
      ]
    },
    {
      "cell_type": "code",
      "metadata": {
        "id": "Znx-tIe26Dwf",
        "colab_type": "code",
        "colab": {}
      },
      "source": [
        "def extract_title(name):\n",
        "    return name.split(',')[1].split()[0].strip()\n"
      ],
      "execution_count": 0,
      "outputs": []
    },
    {
      "cell_type": "code",
      "metadata": {
        "id": "h5aD_-kb6rO3",
        "colab_type": "code",
        "colab": {}
      },
      "source": [
        "train_set['Title'] = train_set['Name'].apply(extract_title)\n"
      ],
      "execution_count": 0,
      "outputs": []
    },
    {
      "cell_type": "code",
      "metadata": {
        "id": "utONq3dp7Q8G",
        "colab_type": "code",
        "outputId": "6275edbb-84f5-4732-e168-5560b458fdb5",
        "colab": {
          "base_uri": "https://localhost:8080/",
          "height": 319
        }
      },
      "source": [
        "train_set['Title'].value_counts()"
      ],
      "execution_count": 26,
      "outputs": [
        {
          "output_type": "execute_result",
          "data": {
            "text/plain": [
              "Mr.          517\n",
              "Miss.        182\n",
              "Mrs.         125\n",
              "Master.       40\n",
              "Dr.            7\n",
              "Rev.           6\n",
              "Mlle.          2\n",
              "Major.         2\n",
              "Col.           2\n",
              "Capt.          1\n",
              "Ms.            1\n",
              "Mme.           1\n",
              "Don.           1\n",
              "Jonkheer.      1\n",
              "Lady.          1\n",
              "Sir.           1\n",
              "the            1\n",
              "Name: Title, dtype: int64"
            ]
          },
          "metadata": {
            "tags": []
          },
          "execution_count": 26
        }
      ]
    },
    {
      "cell_type": "markdown",
      "metadata": {
        "id": "7z-Fa_HZ7gbw",
        "colab_type": "text"
      },
      "source": [
        "A lot of redundant Titles can still be removed and the values for this variable can be decreased"
      ]
    },
    {
      "cell_type": "markdown",
      "metadata": {
        "id": "LeRNl17X74o6",
        "colab_type": "text"
      },
      "source": [
        "Let's create a function to do that"
      ]
    },
    {
      "cell_type": "code",
      "metadata": {
        "id": "bXIcfMLj7TLL",
        "colab_type": "code",
        "colab": {}
      },
      "source": [
        "def refine_title(title):\n",
        "    if title in ['Mr.', 'Sir.', 'Major.', 'Dr.', 'Capt.']:\n",
        "        return 'mr'\n",
        "    elif title == 'Master.':\n",
        "        return 'master'\n",
        "    elif title in ['Miss.', 'Ms.']:\n",
        "        return 'miss'\n",
        "    elif title in ['Mrs.', 'Lady.']:\n",
        "        return 'mrs'\n",
        "    else:\n",
        "        return 'other'"
      ],
      "execution_count": 0,
      "outputs": []
    },
    {
      "cell_type": "code",
      "metadata": {
        "id": "edN9qGiu9Jvb",
        "colab_type": "code",
        "colab": {}
      },
      "source": [
        "train_set['Title'] = train_set['Title'].apply(refine_title)\n"
      ],
      "execution_count": 0,
      "outputs": []
    },
    {
      "cell_type": "code",
      "metadata": {
        "id": "Nq842abH9TIV",
        "colab_type": "code",
        "outputId": "5ba97639-159b-461e-b0d8-d17a29f0da07",
        "colab": {
          "base_uri": "https://localhost:8080/",
          "height": 118
        }
      },
      "source": [
        "train_set['Title'].value_counts()"
      ],
      "execution_count": 29,
      "outputs": [
        {
          "output_type": "execute_result",
          "data": {
            "text/plain": [
              "mr        528\n",
              "miss      183\n",
              "mrs       126\n",
              "master     40\n",
              "other      14\n",
              "Name: Title, dtype: int64"
            ]
          },
          "metadata": {
            "tags": []
          },
          "execution_count": 29
        }
      ]
    },
    {
      "cell_type": "markdown",
      "metadata": {
        "id": "jxBpZlJD9e15",
        "colab_type": "text"
      },
      "source": [
        "Let's apply same functions to the test set"
      ]
    },
    {
      "cell_type": "code",
      "metadata": {
        "id": "BS-rlWUW9WJk",
        "colab_type": "code",
        "colab": {}
      },
      "source": [
        "test_set['Title'] = test_set['Name'].apply(extract_title)\n",
        "test_set['Title'] = test_set['Title'].apply(refine_title)\n"
      ],
      "execution_count": 0,
      "outputs": []
    },
    {
      "cell_type": "code",
      "metadata": {
        "id": "62dT2goD9uhT",
        "colab_type": "code",
        "outputId": "cd2a1fb4-59c0-4ac8-8f0b-2fa89b668eb0",
        "colab": {
          "base_uri": "https://localhost:8080/",
          "height": 118
        }
      },
      "source": [
        "test_set['Title'].value_counts()\n"
      ],
      "execution_count": 31,
      "outputs": [
        {
          "output_type": "execute_result",
          "data": {
            "text/plain": [
              "mr        241\n",
              "miss       79\n",
              "mrs        72\n",
              "master     21\n",
              "other       5\n",
              "Name: Title, dtype: int64"
            ]
          },
          "metadata": {
            "tags": []
          },
          "execution_count": 31
        }
      ]
    },
    {
      "cell_type": "code",
      "metadata": {
        "id": "FoZlw7CS91H_",
        "colab_type": "code",
        "outputId": "75d063db-732f-49c7-c994-055d1a46179b",
        "colab": {
          "base_uri": "https://localhost:8080/",
          "height": 262
        }
      },
      "source": [
        "train_set.head()\n"
      ],
      "execution_count": 32,
      "outputs": [
        {
          "output_type": "execute_result",
          "data": {
            "text/html": [
              "<div>\n",
              "<style scoped>\n",
              "    .dataframe tbody tr th:only-of-type {\n",
              "        vertical-align: middle;\n",
              "    }\n",
              "\n",
              "    .dataframe tbody tr th {\n",
              "        vertical-align: top;\n",
              "    }\n",
              "\n",
              "    .dataframe thead th {\n",
              "        text-align: right;\n",
              "    }\n",
              "</style>\n",
              "<table border=\"1\" class=\"dataframe\">\n",
              "  <thead>\n",
              "    <tr style=\"text-align: right;\">\n",
              "      <th></th>\n",
              "      <th>PassengerId</th>\n",
              "      <th>Survived</th>\n",
              "      <th>Pclass</th>\n",
              "      <th>Name</th>\n",
              "      <th>Sex</th>\n",
              "      <th>Age</th>\n",
              "      <th>SibSp</th>\n",
              "      <th>Parch</th>\n",
              "      <th>Ticket</th>\n",
              "      <th>Fare</th>\n",
              "      <th>Cabin</th>\n",
              "      <th>Embarked</th>\n",
              "      <th>FamilySize</th>\n",
              "      <th>Title</th>\n",
              "    </tr>\n",
              "  </thead>\n",
              "  <tbody>\n",
              "    <tr>\n",
              "      <th>0</th>\n",
              "      <td>1</td>\n",
              "      <td>0</td>\n",
              "      <td>3</td>\n",
              "      <td>Braund, Mr. Owen Harris</td>\n",
              "      <td>male</td>\n",
              "      <td>22.0</td>\n",
              "      <td>1</td>\n",
              "      <td>0</td>\n",
              "      <td>A/5 21171</td>\n",
              "      <td>7.2500</td>\n",
              "      <td>NaN</td>\n",
              "      <td>S</td>\n",
              "      <td>2</td>\n",
              "      <td>mr</td>\n",
              "    </tr>\n",
              "    <tr>\n",
              "      <th>1</th>\n",
              "      <td>2</td>\n",
              "      <td>1</td>\n",
              "      <td>1</td>\n",
              "      <td>Cumings, Mrs. John Bradley (Florence Briggs Th...</td>\n",
              "      <td>female</td>\n",
              "      <td>38.0</td>\n",
              "      <td>1</td>\n",
              "      <td>0</td>\n",
              "      <td>PC 17599</td>\n",
              "      <td>71.2833</td>\n",
              "      <td>C85</td>\n",
              "      <td>C</td>\n",
              "      <td>2</td>\n",
              "      <td>mrs</td>\n",
              "    </tr>\n",
              "    <tr>\n",
              "      <th>2</th>\n",
              "      <td>3</td>\n",
              "      <td>1</td>\n",
              "      <td>3</td>\n",
              "      <td>Heikkinen, Miss. Laina</td>\n",
              "      <td>female</td>\n",
              "      <td>26.0</td>\n",
              "      <td>0</td>\n",
              "      <td>0</td>\n",
              "      <td>STON/O2. 3101282</td>\n",
              "      <td>7.9250</td>\n",
              "      <td>NaN</td>\n",
              "      <td>S</td>\n",
              "      <td>1</td>\n",
              "      <td>miss</td>\n",
              "    </tr>\n",
              "    <tr>\n",
              "      <th>3</th>\n",
              "      <td>4</td>\n",
              "      <td>1</td>\n",
              "      <td>1</td>\n",
              "      <td>Futrelle, Mrs. Jacques Heath (Lily May Peel)</td>\n",
              "      <td>female</td>\n",
              "      <td>35.0</td>\n",
              "      <td>1</td>\n",
              "      <td>0</td>\n",
              "      <td>113803</td>\n",
              "      <td>53.1000</td>\n",
              "      <td>C123</td>\n",
              "      <td>S</td>\n",
              "      <td>2</td>\n",
              "      <td>mrs</td>\n",
              "    </tr>\n",
              "    <tr>\n",
              "      <th>4</th>\n",
              "      <td>5</td>\n",
              "      <td>0</td>\n",
              "      <td>3</td>\n",
              "      <td>Allen, Mr. William Henry</td>\n",
              "      <td>male</td>\n",
              "      <td>35.0</td>\n",
              "      <td>0</td>\n",
              "      <td>0</td>\n",
              "      <td>373450</td>\n",
              "      <td>8.0500</td>\n",
              "      <td>NaN</td>\n",
              "      <td>S</td>\n",
              "      <td>1</td>\n",
              "      <td>mr</td>\n",
              "    </tr>\n",
              "  </tbody>\n",
              "</table>\n",
              "</div>"
            ],
            "text/plain": [
              "   PassengerId  Survived  Pclass  ... Embarked FamilySize  Title\n",
              "0            1         0       3  ...        S          2     mr\n",
              "1            2         1       1  ...        C          2    mrs\n",
              "2            3         1       3  ...        S          1   miss\n",
              "3            4         1       1  ...        S          2    mrs\n",
              "4            5         0       3  ...        S          1     mr\n",
              "\n",
              "[5 rows x 14 columns]"
            ]
          },
          "metadata": {
            "tags": []
          },
          "execution_count": 32
        }
      ]
    },
    {
      "cell_type": "markdown",
      "metadata": {
        "id": "cq3OoC2y_H1V",
        "colab_type": "text"
      },
      "source": [
        "### Creating the bins for Fare variable"
      ]
    },
    {
      "cell_type": "code",
      "metadata": {
        "id": "JsTNk244-gBj",
        "colab_type": "code",
        "outputId": "a12ed0d3-96c0-4f2f-f28d-5fb9d87f252b",
        "colab": {
          "base_uri": "https://localhost:8080/",
          "height": 300
        }
      },
      "source": [
        "sns.distplot(train_set['Fare'])"
      ],
      "execution_count": 33,
      "outputs": [
        {
          "output_type": "execute_result",
          "data": {
            "text/plain": [
              "<matplotlib.axes._subplots.AxesSubplot at 0x7fcd1f312fd0>"
            ]
          },
          "metadata": {
            "tags": []
          },
          "execution_count": 33
        },
        {
          "output_type": "display_data",
          "data": {
            "image/png": "[encoded data removed]",
            "text/plain": [
              "<Figure size 432x288 with 1 Axes>"
            ]
          },
          "metadata": {
            "tags": []
          }
        }
      ]
    },
    {
      "cell_type": "markdown",
      "metadata": {
        "id": "nTTtXALR_jAi",
        "colab_type": "text"
      },
      "source": [
        "From the distribution of fare it seems like the bins should be - \n",
        "1. 10 units from 0 to 100\n",
        "2. 100-200\n",
        "3. 200-300\n",
        "4. 300+"
      ]
    },
    {
      "cell_type": "markdown",
      "metadata": {
        "id": "wHsUNHBJ_938",
        "colab_type": "text"
      },
      "source": [
        "Let's check the test set also before making final decision"
      ]
    },
    {
      "cell_type": "code",
      "metadata": {
        "id": "4JuBfzft_OmN",
        "colab_type": "code",
        "outputId": "5f590972-499b-4d32-ab35-6d90f6888a2d",
        "colab": {
          "base_uri": "https://localhost:8080/",
          "height": 300
        }
      },
      "source": [
        "sns.distplot(test_set['Fare'])\n"
      ],
      "execution_count": 34,
      "outputs": [
        {
          "output_type": "execute_result",
          "data": {
            "text/plain": [
              "<matplotlib.axes._subplots.AxesSubplot at 0x7fcd1fb1c470>"
            ]
          },
          "metadata": {
            "tags": []
          },
          "execution_count": 34
        },
        {
          "output_type": "display_data",
          "data": {
            "image/png": "[encoded data removed]",
            "text/plain": [
              "<Figure size 432x288 with 1 Axes>"
            ]
          },
          "metadata": {
            "tags": []
          }
        }
      ]
    },
    {
      "cell_type": "markdown",
      "metadata": {
        "id": "sfHsMBnNARMA",
        "colab_type": "text"
      },
      "source": [
        "The distribution looks very much similar, so let's create the function for binning the Fare"
      ]
    },
    {
      "cell_type": "code",
      "metadata": {
        "id": "HwNac9wIAHeb",
        "colab_type": "code",
        "colab": {}
      },
      "source": [
        "fare_bins = [-np.inf, 10, 20, 30, 40, 50, 60, 70, 80, 90, 100, 200, 300, np.inf]\n",
        "fare_labels = [1, 2, 3, 4, 5, 6, 7, 8, 9, 10, 11, 12, 13]\n",
        "train_set['FareBin'] = pd.cut(train_set['Fare'], bins=fare_bins, labels=fare_labels)\n",
        "test_set['FareBin'] = pd.cut(test_set['Fare'], bins=fare_bins, labels=fare_labels)\n"
      ],
      "execution_count": 0,
      "outputs": []
    },
    {
      "cell_type": "code",
      "metadata": {
        "id": "acvl6J2zBc0E",
        "colab_type": "code",
        "outputId": "a879fe5f-f755-466d-b72d-fc865cb30407",
        "colab": {
          "base_uri": "https://localhost:8080/",
          "height": 330
        }
      },
      "source": [
        "train_set.head()\n"
      ],
      "execution_count": 36,
      "outputs": [
        {
          "output_type": "execute_result",
          "data": {
            "text/html": [
              "<div>\n",
              "<style scoped>\n",
              "    .dataframe tbody tr th:only-of-type {\n",
              "        vertical-align: middle;\n",
              "    }\n",
              "\n",
              "    .dataframe tbody tr th {\n",
              "        vertical-align: top;\n",
              "    }\n",
              "\n",
              "    .dataframe thead th {\n",
              "        text-align: right;\n",
              "    }\n",
              "</style>\n",
              "<table border=\"1\" class=\"dataframe\">\n",
              "  <thead>\n",
              "    <tr style=\"text-align: right;\">\n",
              "      <th></th>\n",
              "      <th>PassengerId</th>\n",
              "      <th>Survived</th>\n",
              "      <th>Pclass</th>\n",
              "      <th>Name</th>\n",
              "      <th>Sex</th>\n",
              "      <th>Age</th>\n",
              "      <th>SibSp</th>\n",
              "      <th>Parch</th>\n",
              "      <th>Ticket</th>\n",
              "      <th>Fare</th>\n",
              "      <th>Cabin</th>\n",
              "      <th>Embarked</th>\n",
              "      <th>FamilySize</th>\n",
              "      <th>Title</th>\n",
              "      <th>FareBin</th>\n",
              "    </tr>\n",
              "  </thead>\n",
              "  <tbody>\n",
              "    <tr>\n",
              "      <th>0</th>\n",
              "      <td>1</td>\n",
              "      <td>0</td>\n",
              "      <td>3</td>\n",
              "      <td>Braund, Mr. Owen Harris</td>\n",
              "      <td>male</td>\n",
              "      <td>22.0</td>\n",
              "      <td>1</td>\n",
              "      <td>0</td>\n",
              "      <td>A/5 21171</td>\n",
              "      <td>7.2500</td>\n",
              "      <td>NaN</td>\n",
              "      <td>S</td>\n",
              "      <td>2</td>\n",
              "      <td>mr</td>\n",
              "      <td>1</td>\n",
              "    </tr>\n",
              "    <tr>\n",
              "      <th>1</th>\n",
              "      <td>2</td>\n",
              "      <td>1</td>\n",
              "      <td>1</td>\n",
              "      <td>Cumings, Mrs. John Bradley (Florence Briggs Th...</td>\n",
              "      <td>female</td>\n",
              "      <td>38.0</td>\n",
              "      <td>1</td>\n",
              "      <td>0</td>\n",
              "      <td>PC 17599</td>\n",
              "      <td>71.2833</td>\n",
              "      <td>C85</td>\n",
              "      <td>C</td>\n",
              "      <td>2</td>\n",
              "      <td>mrs</td>\n",
              "      <td>8</td>\n",
              "    </tr>\n",
              "    <tr>\n",
              "      <th>2</th>\n",
              "      <td>3</td>\n",
              "      <td>1</td>\n",
              "      <td>3</td>\n",
              "      <td>Heikkinen, Miss. Laina</td>\n",
              "      <td>female</td>\n",
              "      <td>26.0</td>\n",
              "      <td>0</td>\n",
              "      <td>0</td>\n",
              "      <td>STON/O2. 3101282</td>\n",
              "      <td>7.9250</td>\n",
              "      <td>NaN</td>\n",
              "      <td>S</td>\n",
              "      <td>1</td>\n",
              "      <td>miss</td>\n",
              "      <td>1</td>\n",
              "    </tr>\n",
              "    <tr>\n",
              "      <th>3</th>\n",
              "      <td>4</td>\n",
              "      <td>1</td>\n",
              "      <td>1</td>\n",
              "      <td>Futrelle, Mrs. Jacques Heath (Lily May Peel)</td>\n",
              "      <td>female</td>\n",
              "      <td>35.0</td>\n",
              "      <td>1</td>\n",
              "      <td>0</td>\n",
              "      <td>113803</td>\n",
              "      <td>53.1000</td>\n",
              "      <td>C123</td>\n",
              "      <td>S</td>\n",
              "      <td>2</td>\n",
              "      <td>mrs</td>\n",
              "      <td>6</td>\n",
              "    </tr>\n",
              "    <tr>\n",
              "      <th>4</th>\n",
              "      <td>5</td>\n",
              "      <td>0</td>\n",
              "      <td>3</td>\n",
              "      <td>Allen, Mr. William Henry</td>\n",
              "      <td>male</td>\n",
              "      <td>35.0</td>\n",
              "      <td>0</td>\n",
              "      <td>0</td>\n",
              "      <td>373450</td>\n",
              "      <td>8.0500</td>\n",
              "      <td>NaN</td>\n",
              "      <td>S</td>\n",
              "      <td>1</td>\n",
              "      <td>mr</td>\n",
              "      <td>1</td>\n",
              "    </tr>\n",
              "  </tbody>\n",
              "</table>\n",
              "</div>"
            ],
            "text/plain": [
              "   PassengerId  Survived  Pclass  ... FamilySize Title  FareBin\n",
              "0            1         0       3  ...          2    mr        1\n",
              "1            2         1       1  ...          2   mrs        8\n",
              "2            3         1       3  ...          1  miss        1\n",
              "3            4         1       1  ...          2   mrs        6\n",
              "4            5         0       3  ...          1    mr        1\n",
              "\n",
              "[5 rows x 15 columns]"
            ]
          },
          "metadata": {
            "tags": []
          },
          "execution_count": 36
        }
      ]
    },
    {
      "cell_type": "code",
      "metadata": {
        "id": "kKElXNgGCXG2",
        "colab_type": "code",
        "outputId": "01e795ed-f33c-4b4e-ccc1-4b6db8b49f9f",
        "colab": {
          "base_uri": "https://localhost:8080/",
          "height": 229
        }
      },
      "source": [
        "test_set.head()\n"
      ],
      "execution_count": 37,
      "outputs": [
        {
          "output_type": "execute_result",
          "data": {
            "text/html": [
              "<div>\n",
              "<style scoped>\n",
              "    .dataframe tbody tr th:only-of-type {\n",
              "        vertical-align: middle;\n",
              "    }\n",
              "\n",
              "    .dataframe tbody tr th {\n",
              "        vertical-align: top;\n",
              "    }\n",
              "\n",
              "    .dataframe thead th {\n",
              "        text-align: right;\n",
              "    }\n",
              "</style>\n",
              "<table border=\"1\" class=\"dataframe\">\n",
              "  <thead>\n",
              "    <tr style=\"text-align: right;\">\n",
              "      <th></th>\n",
              "      <th>PassengerId</th>\n",
              "      <th>Pclass</th>\n",
              "      <th>Name</th>\n",
              "      <th>Sex</th>\n",
              "      <th>Age</th>\n",
              "      <th>SibSp</th>\n",
              "      <th>Parch</th>\n",
              "      <th>Ticket</th>\n",
              "      <th>Fare</th>\n",
              "      <th>Cabin</th>\n",
              "      <th>Embarked</th>\n",
              "      <th>FamilySize</th>\n",
              "      <th>Title</th>\n",
              "      <th>FareBin</th>\n",
              "    </tr>\n",
              "  </thead>\n",
              "  <tbody>\n",
              "    <tr>\n",
              "      <th>0</th>\n",
              "      <td>892</td>\n",
              "      <td>3</td>\n",
              "      <td>Kelly, Mr. James</td>\n",
              "      <td>male</td>\n",
              "      <td>34.5</td>\n",
              "      <td>0</td>\n",
              "      <td>0</td>\n",
              "      <td>330911</td>\n",
              "      <td>7.8292</td>\n",
              "      <td>NaN</td>\n",
              "      <td>Q</td>\n",
              "      <td>1</td>\n",
              "      <td>mr</td>\n",
              "      <td>1</td>\n",
              "    </tr>\n",
              "    <tr>\n",
              "      <th>1</th>\n",
              "      <td>893</td>\n",
              "      <td>3</td>\n",
              "      <td>Wilkes, Mrs. James (Ellen Needs)</td>\n",
              "      <td>female</td>\n",
              "      <td>47.0</td>\n",
              "      <td>1</td>\n",
              "      <td>0</td>\n",
              "      <td>363272</td>\n",
              "      <td>7.0000</td>\n",
              "      <td>NaN</td>\n",
              "      <td>S</td>\n",
              "      <td>2</td>\n",
              "      <td>mrs</td>\n",
              "      <td>1</td>\n",
              "    </tr>\n",
              "    <tr>\n",
              "      <th>2</th>\n",
              "      <td>894</td>\n",
              "      <td>2</td>\n",
              "      <td>Myles, Mr. Thomas Francis</td>\n",
              "      <td>male</td>\n",
              "      <td>62.0</td>\n",
              "      <td>0</td>\n",
              "      <td>0</td>\n",
              "      <td>240276</td>\n",
              "      <td>9.6875</td>\n",
              "      <td>NaN</td>\n",
              "      <td>Q</td>\n",
              "      <td>1</td>\n",
              "      <td>mr</td>\n",
              "      <td>1</td>\n",
              "    </tr>\n",
              "    <tr>\n",
              "      <th>3</th>\n",
              "      <td>895</td>\n",
              "      <td>3</td>\n",
              "      <td>Wirz, Mr. Albert</td>\n",
              "      <td>male</td>\n",
              "      <td>27.0</td>\n",
              "      <td>0</td>\n",
              "      <td>0</td>\n",
              "      <td>315154</td>\n",
              "      <td>8.6625</td>\n",
              "      <td>NaN</td>\n",
              "      <td>S</td>\n",
              "      <td>1</td>\n",
              "      <td>mr</td>\n",
              "      <td>1</td>\n",
              "    </tr>\n",
              "    <tr>\n",
              "      <th>4</th>\n",
              "      <td>896</td>\n",
              "      <td>3</td>\n",
              "      <td>Hirvonen, Mrs. Alexander (Helga E Lindqvist)</td>\n",
              "      <td>female</td>\n",
              "      <td>22.0</td>\n",
              "      <td>1</td>\n",
              "      <td>1</td>\n",
              "      <td>3101298</td>\n",
              "      <td>12.2875</td>\n",
              "      <td>NaN</td>\n",
              "      <td>S</td>\n",
              "      <td>3</td>\n",
              "      <td>mrs</td>\n",
              "      <td>2</td>\n",
              "    </tr>\n",
              "  </tbody>\n",
              "</table>\n",
              "</div>"
            ],
            "text/plain": [
              "   PassengerId  Pclass  ... Title FareBin\n",
              "0          892       3  ...    mr       1\n",
              "1          893       3  ...   mrs       1\n",
              "2          894       2  ...    mr       1\n",
              "3          895       3  ...    mr       1\n",
              "4          896       3  ...   mrs       2\n",
              "\n",
              "[5 rows x 14 columns]"
            ]
          },
          "metadata": {
            "tags": []
          },
          "execution_count": 37
        }
      ]
    },
    {
      "cell_type": "markdown",
      "metadata": {
        "id": "NCdCyZ3iDryf",
        "colab_type": "text"
      },
      "source": [
        "### Fiiling missing values for Age"
      ]
    },
    {
      "cell_type": "markdown",
      "metadata": {
        "id": "za8h6RA3Dv5r",
        "colab_type": "text"
      },
      "source": [
        "We have all the variables now on which Age might depend"
      ]
    },
    {
      "cell_type": "markdown",
      "metadata": {
        "id": "Sh8KjqHCD0MJ",
        "colab_type": "text"
      },
      "source": [
        "Let's write the script to fill up the age variable"
      ]
    },
    {
      "cell_type": "code",
      "metadata": {
        "id": "qoBzN9xqDl3c",
        "colab_type": "code",
        "colab": {}
      },
      "source": [
        "def fill_age(df):\n",
        "    for idx, row in df.iterrows():\n",
        "        if pd.isnull(row['Age']):\n",
        "            value = df[ \n",
        "                (df['Pclass']==row['Pclass']) & \n",
        "                (df['Sex']==row['Sex']) & \n",
        "                (df['Embarked']==row['Embarked']) & \n",
        "                (df['Title']==row['Title']) & \n",
        "                (df['FareBin']==row['FareBin'])\n",
        "            ]['Age'].median()\n",
        "            if pd.isnull(value):\n",
        "                value = df[ \n",
        "                (df['Sex']==row['Sex']) & \n",
        "                (df['Title']==row['Title']) & \n",
        "                (df['FareBin']==row['FareBin'])\n",
        "            ]['Age'].median()\n",
        "            if pd.isnull(value):\n",
        "                value = df[df['Title']==row['Title']]['Age'].median()\n",
        "            df.at[idx, 'Age'] = value \n"
      ],
      "execution_count": 0,
      "outputs": []
    },
    {
      "cell_type": "code",
      "metadata": {
        "id": "PGUObkqvFix9",
        "colab_type": "code",
        "colab": {}
      },
      "source": [
        "fill_age(train_set)\n",
        "fill_age(test_set)\n"
      ],
      "execution_count": 0,
      "outputs": []
    },
    {
      "cell_type": "markdown",
      "metadata": {
        "id": "9ZwH9KFTIKgX",
        "colab_type": "text"
      },
      "source": [
        "Let's check the missing values in train and test set now"
      ]
    },
    {
      "cell_type": "code",
      "metadata": {
        "id": "nyaxZR29F2uc",
        "colab_type": "code",
        "outputId": "345b4a09-47e9-414e-d490-45543ac0e202",
        "colab": {
          "base_uri": "https://localhost:8080/",
          "height": 110
        }
      },
      "source": [
        "missing_zero_values_table(train_set)\n"
      ],
      "execution_count": 40,
      "outputs": [
        {
          "output_type": "stream",
          "text": [
            "Your selected dataframe has 15 columns and 891 Rows.\n",
            "There are 1 columns that have missing values.\n"
          ],
          "name": "stdout"
        },
        {
          "output_type": "execute_result",
          "data": {
            "text/html": [
              "<div>\n",
              "<style scoped>\n",
              "    .dataframe tbody tr th:only-of-type {\n",
              "        vertical-align: middle;\n",
              "    }\n",
              "\n",
              "    .dataframe tbody tr th {\n",
              "        vertical-align: top;\n",
              "    }\n",
              "\n",
              "    .dataframe thead th {\n",
              "        text-align: right;\n",
              "    }\n",
              "</style>\n",
              "<table border=\"1\" class=\"dataframe\">\n",
              "  <thead>\n",
              "    <tr style=\"text-align: right;\">\n",
              "      <th></th>\n",
              "      <th>Zero Values</th>\n",
              "      <th>Missing Values</th>\n",
              "      <th>% of Total Values</th>\n",
              "      <th>Data Type</th>\n",
              "    </tr>\n",
              "  </thead>\n",
              "  <tbody>\n",
              "    <tr>\n",
              "      <th>Cabin</th>\n",
              "      <td>0</td>\n",
              "      <td>687</td>\n",
              "      <td>77.1</td>\n",
              "      <td>object</td>\n",
              "    </tr>\n",
              "  </tbody>\n",
              "</table>\n",
              "</div>"
            ],
            "text/plain": [
              "       Zero Values  Missing Values  % of Total Values Data Type\n",
              "Cabin            0             687               77.1    object"
            ]
          },
          "metadata": {
            "tags": []
          },
          "execution_count": 40
        }
      ]
    },
    {
      "cell_type": "code",
      "metadata": {
        "id": "g2FwPsaFGFc_",
        "colab_type": "code",
        "outputId": "edc34d66-8921-41cb-c3ca-05661f3aa14b",
        "colab": {
          "base_uri": "https://localhost:8080/",
          "height": 110
        }
      },
      "source": [
        "missing_zero_values_table(test_set)"
      ],
      "execution_count": 41,
      "outputs": [
        {
          "output_type": "stream",
          "text": [
            "Your selected dataframe has 14 columns and 418 Rows.\n",
            "There are 1 columns that have missing values.\n"
          ],
          "name": "stdout"
        },
        {
          "output_type": "execute_result",
          "data": {
            "text/html": [
              "<div>\n",
              "<style scoped>\n",
              "    .dataframe tbody tr th:only-of-type {\n",
              "        vertical-align: middle;\n",
              "    }\n",
              "\n",
              "    .dataframe tbody tr th {\n",
              "        vertical-align: top;\n",
              "    }\n",
              "\n",
              "    .dataframe thead th {\n",
              "        text-align: right;\n",
              "    }\n",
              "</style>\n",
              "<table border=\"1\" class=\"dataframe\">\n",
              "  <thead>\n",
              "    <tr style=\"text-align: right;\">\n",
              "      <th></th>\n",
              "      <th>Zero Values</th>\n",
              "      <th>Missing Values</th>\n",
              "      <th>% of Total Values</th>\n",
              "      <th>Data Type</th>\n",
              "    </tr>\n",
              "  </thead>\n",
              "  <tbody>\n",
              "    <tr>\n",
              "      <th>Cabin</th>\n",
              "      <td>0</td>\n",
              "      <td>327</td>\n",
              "      <td>78.2</td>\n",
              "      <td>object</td>\n",
              "    </tr>\n",
              "  </tbody>\n",
              "</table>\n",
              "</div>"
            ],
            "text/plain": [
              "       Zero Values  Missing Values  % of Total Values Data Type\n",
              "Cabin            0             327               78.2    object"
            ]
          },
          "metadata": {
            "tags": []
          },
          "execution_count": 41
        }
      ]
    },
    {
      "cell_type": "markdown",
      "metadata": {
        "id": "TwgpE9ADIYpP",
        "colab_type": "text"
      },
      "source": [
        "### Creating bins for Age"
      ]
    },
    {
      "cell_type": "markdown",
      "metadata": {
        "id": "UNZ5TyRsITfS",
        "colab_type": "text"
      },
      "source": [
        "DIstribution of Age"
      ]
    },
    {
      "cell_type": "code",
      "metadata": {
        "id": "OS2Ri83HGU5s",
        "colab_type": "code",
        "outputId": "562db1de-249d-41bf-a9d7-2bd4a183d87f",
        "colab": {
          "base_uri": "https://localhost:8080/",
          "height": 300
        }
      },
      "source": [
        "sns.distplot(train_set['Age'])"
      ],
      "execution_count": 42,
      "outputs": [
        {
          "output_type": "execute_result",
          "data": {
            "text/plain": [
              "<matplotlib.axes._subplots.AxesSubplot at 0x7fcd1f6df2e8>"
            ]
          },
          "metadata": {
            "tags": []
          },
          "execution_count": 42
        },
        {
          "output_type": "display_data",
          "data": {
            "image/png": "[encoded data removed]",
            "text/plain": [
              "<Figure size 432x288 with 1 Axes>"
            ]
          },
          "metadata": {
            "tags": []
          }
        }
      ]
    },
    {
      "cell_type": "code",
      "metadata": {
        "id": "vkwZ_qxnI8iD",
        "colab_type": "code",
        "outputId": "1fbd81d4-f6b9-4302-aa4a-f7fc996669d8",
        "colab": {
          "base_uri": "https://localhost:8080/",
          "height": 300
        }
      },
      "source": [
        "sns.distplot(test_set['Age'])"
      ],
      "execution_count": 43,
      "outputs": [
        {
          "output_type": "execute_result",
          "data": {
            "text/plain": [
              "<matplotlib.axes._subplots.AxesSubplot at 0x7fcd1f4b8978>"
            ]
          },
          "metadata": {
            "tags": []
          },
          "execution_count": 43
        },
        {
          "output_type": "display_data",
          "data": {
            "image/png": "[encoded data removed]",
            "text/plain": [
              "<Figure size 432x288 with 1 Axes>"
            ]
          },
          "metadata": {
            "tags": []
          }
        }
      ]
    },
    {
      "cell_type": "code",
      "metadata": {
        "id": "Cq5-cNFGPVqG",
        "colab_type": "code",
        "outputId": "70ddc838-9cd3-4c21-af66-80dcd7b93589",
        "colab": {
          "base_uri": "https://localhost:8080/",
          "height": 168
        }
      },
      "source": [
        "train_set['Age'].describe()"
      ],
      "execution_count": 44,
      "outputs": [
        {
          "output_type": "execute_result",
          "data": {
            "text/plain": [
              "count    891.000000\n",
              "mean      29.424433\n",
              "std       13.718917\n",
              "min        0.420000\n",
              "25%       21.000000\n",
              "50%       28.000000\n",
              "75%       36.000000\n",
              "max       80.000000\n",
              "Name: Age, dtype: float64"
            ]
          },
          "metadata": {
            "tags": []
          },
          "execution_count": 44
        }
      ]
    },
    {
      "cell_type": "code",
      "metadata": {
        "id": "GUCR-1jQS6KI",
        "colab_type": "code",
        "colab": {}
      },
      "source": [
        "age_bins = [-np.inf, 10, 20, 30, 40, 50, 60, 70, 80, np.inf]\n",
        "age_labels = [1, 2, 3, 4, 5, 6, 7, 8, 9]\n",
        "train_set['AgeBin'] = pd.cut(train_set['Age'], bins=age_bins, labels=age_labels)\n",
        "test_set['AgeBin'] = pd.cut(test_set['Age'], bins=age_bins, labels=age_labels)\n"
      ],
      "execution_count": 0,
      "outputs": []
    },
    {
      "cell_type": "code",
      "metadata": {
        "id": "e9zcAItMUuqI",
        "colab_type": "code",
        "outputId": "3ea0e3c6-cf71-4aa0-ca1c-f2fb314d4976",
        "colab": {
          "base_uri": "https://localhost:8080/",
          "height": 484
        }
      },
      "source": [
        "train_set.head()"
      ],
      "execution_count": 46,
      "outputs": [
        {
          "output_type": "execute_result",
          "data": {
            "text/html": [
              "<div>\n",
              "<style scoped>\n",
              "    .dataframe tbody tr th:only-of-type {\n",
              "        vertical-align: middle;\n",
              "    }\n",
              "\n",
              "    .dataframe tbody tr th {\n",
              "        vertical-align: top;\n",
              "    }\n",
              "\n",
              "    .dataframe thead th {\n",
              "        text-align: right;\n",
              "    }\n",
              "</style>\n",
              "<table border=\"1\" class=\"dataframe\">\n",
              "  <thead>\n",
              "    <tr style=\"text-align: right;\">\n",
              "      <th></th>\n",
              "      <th>PassengerId</th>\n",
              "      <th>Survived</th>\n",
              "      <th>Pclass</th>\n",
              "      <th>Name</th>\n",
              "      <th>Sex</th>\n",
              "      <th>Age</th>\n",
              "      <th>SibSp</th>\n",
              "      <th>Parch</th>\n",
              "      <th>Ticket</th>\n",
              "      <th>Fare</th>\n",
              "      <th>Cabin</th>\n",
              "      <th>Embarked</th>\n",
              "      <th>FamilySize</th>\n",
              "      <th>Title</th>\n",
              "      <th>FareBin</th>\n",
              "      <th>AgeBin</th>\n",
              "    </tr>\n",
              "  </thead>\n",
              "  <tbody>\n",
              "    <tr>\n",
              "      <th>0</th>\n",
              "      <td>1</td>\n",
              "      <td>0</td>\n",
              "      <td>3</td>\n",
              "      <td>Braund, Mr. Owen Harris</td>\n",
              "      <td>male</td>\n",
              "      <td>22.0</td>\n",
              "      <td>1</td>\n",
              "      <td>0</td>\n",
              "      <td>A/5 21171</td>\n",
              "      <td>7.2500</td>\n",
              "      <td>NaN</td>\n",
              "      <td>S</td>\n",
              "      <td>2</td>\n",
              "      <td>mr</td>\n",
              "      <td>1</td>\n",
              "      <td>3</td>\n",
              "    </tr>\n",
              "    <tr>\n",
              "      <th>1</th>\n",
              "      <td>2</td>\n",
              "      <td>1</td>\n",
              "      <td>1</td>\n",
              "      <td>Cumings, Mrs. John Bradley (Florence Briggs Th...</td>\n",
              "      <td>female</td>\n",
              "      <td>38.0</td>\n",
              "      <td>1</td>\n",
              "      <td>0</td>\n",
              "      <td>PC 17599</td>\n",
              "      <td>71.2833</td>\n",
              "      <td>C85</td>\n",
              "      <td>C</td>\n",
              "      <td>2</td>\n",
              "      <td>mrs</td>\n",
              "      <td>8</td>\n",
              "      <td>4</td>\n",
              "    </tr>\n",
              "    <tr>\n",
              "      <th>2</th>\n",
              "      <td>3</td>\n",
              "      <td>1</td>\n",
              "      <td>3</td>\n",
              "      <td>Heikkinen, Miss. Laina</td>\n",
              "      <td>female</td>\n",
              "      <td>26.0</td>\n",
              "      <td>0</td>\n",
              "      <td>0</td>\n",
              "      <td>STON/O2. 3101282</td>\n",
              "      <td>7.9250</td>\n",
              "      <td>NaN</td>\n",
              "      <td>S</td>\n",
              "      <td>1</td>\n",
              "      <td>miss</td>\n",
              "      <td>1</td>\n",
              "      <td>3</td>\n",
              "    </tr>\n",
              "    <tr>\n",
              "      <th>3</th>\n",
              "      <td>4</td>\n",
              "      <td>1</td>\n",
              "      <td>1</td>\n",
              "      <td>Futrelle, Mrs. Jacques Heath (Lily May Peel)</td>\n",
              "      <td>female</td>\n",
              "      <td>35.0</td>\n",
              "      <td>1</td>\n",
              "      <td>0</td>\n",
              "      <td>113803</td>\n",
              "      <td>53.1000</td>\n",
              "      <td>C123</td>\n",
              "      <td>S</td>\n",
              "      <td>2</td>\n",
              "      <td>mrs</td>\n",
              "      <td>6</td>\n",
              "      <td>4</td>\n",
              "    </tr>\n",
              "    <tr>\n",
              "      <th>4</th>\n",
              "      <td>5</td>\n",
              "      <td>0</td>\n",
              "      <td>3</td>\n",
              "      <td>Allen, Mr. William Henry</td>\n",
              "      <td>male</td>\n",
              "      <td>35.0</td>\n",
              "      <td>0</td>\n",
              "      <td>0</td>\n",
              "      <td>373450</td>\n",
              "      <td>8.0500</td>\n",
              "      <td>NaN</td>\n",
              "      <td>S</td>\n",
              "      <td>1</td>\n",
              "      <td>mr</td>\n",
              "      <td>1</td>\n",
              "      <td>4</td>\n",
              "    </tr>\n",
              "  </tbody>\n",
              "</table>\n",
              "</div>"
            ],
            "text/plain": [
              "   PassengerId  Survived  Pclass  ... Title FareBin  AgeBin\n",
              "0            1         0       3  ...    mr       1       3\n",
              "1            2         1       1  ...   mrs       8       4\n",
              "2            3         1       3  ...  miss       1       3\n",
              "3            4         1       1  ...   mrs       6       4\n",
              "4            5         0       3  ...    mr       1       4\n",
              "\n",
              "[5 rows x 16 columns]"
            ]
          },
          "metadata": {
            "tags": []
          },
          "execution_count": 46
        }
      ]
    },
    {
      "cell_type": "markdown",
      "metadata": {
        "id": "h18FQejtVDn7",
        "colab_type": "text"
      },
      "source": [
        "### Select features to train model "
      ]
    },
    {
      "cell_type": "code",
      "metadata": {
        "id": "PqUn7FTfU_es",
        "colab_type": "code",
        "colab": {}
      },
      "source": [
        "features = ['Pclass', 'Sex', 'Embarked', 'FamilySize', 'Title', 'FareBin', 'AgeBin', 'Fare', 'Age']"
      ],
      "execution_count": 0,
      "outputs": []
    },
    {
      "cell_type": "code",
      "metadata": {
        "id": "Qjy3QpG5VqiS",
        "colab_type": "code",
        "colab": {}
      },
      "source": [
        "y_train = train_set['Survived']"
      ],
      "execution_count": 0,
      "outputs": []
    },
    {
      "cell_type": "code",
      "metadata": {
        "id": "DFFQ71rZV-2n",
        "colab_type": "code",
        "colab": {}
      },
      "source": [
        "x_train = train_set[features]\n",
        "x_test = test_set[features]"
      ],
      "execution_count": 0,
      "outputs": []
    },
    {
      "cell_type": "code",
      "metadata": {
        "id": "_LtPqfQpWPU7",
        "colab_type": "code",
        "outputId": "53f0e775-35b9-4871-e9a2-88d68e69d68e",
        "colab": {
          "base_uri": "https://localhost:8080/",
          "height": 195
        }
      },
      "source": [
        "x_train.head()"
      ],
      "execution_count": 94,
      "outputs": [
        {
          "output_type": "execute_result",
          "data": {
            "text/html": [
              "<div>\n",
              "<style scoped>\n",
              "    .dataframe tbody tr th:only-of-type {\n",
              "        vertical-align: middle;\n",
              "    }\n",
              "\n",
              "    .dataframe tbody tr th {\n",
              "        vertical-align: top;\n",
              "    }\n",
              "\n",
              "    .dataframe thead th {\n",
              "        text-align: right;\n",
              "    }\n",
              "</style>\n",
              "<table border=\"1\" class=\"dataframe\">\n",
              "  <thead>\n",
              "    <tr style=\"text-align: right;\">\n",
              "      <th></th>\n",
              "      <th>Pclass</th>\n",
              "      <th>Sex</th>\n",
              "      <th>Embarked</th>\n",
              "      <th>FamilySize</th>\n",
              "      <th>Title</th>\n",
              "      <th>FareBin</th>\n",
              "      <th>AgeBin</th>\n",
              "      <th>Fare</th>\n",
              "      <th>Age</th>\n",
              "    </tr>\n",
              "  </thead>\n",
              "  <tbody>\n",
              "    <tr>\n",
              "      <th>0</th>\n",
              "      <td>3</td>\n",
              "      <td>male</td>\n",
              "      <td>S</td>\n",
              "      <td>2</td>\n",
              "      <td>mr</td>\n",
              "      <td>1</td>\n",
              "      <td>3</td>\n",
              "      <td>7.2500</td>\n",
              "      <td>22.0</td>\n",
              "    </tr>\n",
              "    <tr>\n",
              "      <th>1</th>\n",
              "      <td>1</td>\n",
              "      <td>female</td>\n",
              "      <td>C</td>\n",
              "      <td>2</td>\n",
              "      <td>mrs</td>\n",
              "      <td>8</td>\n",
              "      <td>4</td>\n",
              "      <td>71.2833</td>\n",
              "      <td>38.0</td>\n",
              "    </tr>\n",
              "    <tr>\n",
              "      <th>2</th>\n",
              "      <td>3</td>\n",
              "      <td>female</td>\n",
              "      <td>S</td>\n",
              "      <td>1</td>\n",
              "      <td>miss</td>\n",
              "      <td>1</td>\n",
              "      <td>3</td>\n",
              "      <td>7.9250</td>\n",
              "      <td>26.0</td>\n",
              "    </tr>\n",
              "    <tr>\n",
              "      <th>3</th>\n",
              "      <td>1</td>\n",
              "      <td>female</td>\n",
              "      <td>S</td>\n",
              "      <td>2</td>\n",
              "      <td>mrs</td>\n",
              "      <td>6</td>\n",
              "      <td>4</td>\n",
              "      <td>53.1000</td>\n",
              "      <td>35.0</td>\n",
              "    </tr>\n",
              "    <tr>\n",
              "      <th>4</th>\n",
              "      <td>3</td>\n",
              "      <td>male</td>\n",
              "      <td>S</td>\n",
              "      <td>1</td>\n",
              "      <td>mr</td>\n",
              "      <td>1</td>\n",
              "      <td>4</td>\n",
              "      <td>8.0500</td>\n",
              "      <td>35.0</td>\n",
              "    </tr>\n",
              "  </tbody>\n",
              "</table>\n",
              "</div>"
            ],
            "text/plain": [
              "   Pclass     Sex Embarked  FamilySize Title FareBin AgeBin     Fare   Age\n",
              "0       3    male        S           2    mr       1      3   7.2500  22.0\n",
              "1       1  female        C           2   mrs       8      4  71.2833  38.0\n",
              "2       3  female        S           1  miss       1      3   7.9250  26.0\n",
              "3       1  female        S           2   mrs       6      4  53.1000  35.0\n",
              "4       3    male        S           1    mr       1      4   8.0500  35.0"
            ]
          },
          "metadata": {
            "tags": []
          },
          "execution_count": 94
        }
      ]
    },
    {
      "cell_type": "markdown",
      "metadata": {
        "id": "MdlcaJyvzLWq",
        "colab_type": "text"
      },
      "source": [
        "### Normalize the data using Standard Scaler"
      ]
    },
    {
      "cell_type": "code",
      "metadata": {
        "id": "DsVfTbSlzPmu",
        "colab_type": "code",
        "outputId": "15633ca5-438e-408e-f9b3-341f45d337b5",
        "colab": {
          "base_uri": "https://localhost:8080/",
          "height": 420
        }
      },
      "source": [
        "from sklearn.preprocessing import StandardScaler\n",
        "scaler = StandardScaler()\n",
        "x_train[['Age', 'Fare', 'FamilySize']] = scaler.fit_transform(x_train[['Age', 'Fare', 'FamilySize']])\n",
        "x_test[['Age', 'Fare', 'FamilySize']] = scaler.fit_transform(x_test[['Age', 'Fare', 'FamilySize']])"
      ],
      "execution_count": 95,
      "outputs": [
        {
          "output_type": "stream",
          "text": [
            "/usr/local/lib/python3.6/dist-packages/ipykernel_launcher.py:3: SettingWithCopyWarning: \n",
            "A value is trying to be set on a copy of a slice from a DataFrame.\n",
            "Try using .loc[row_indexer,col_indexer] = value instead\n",
            "\n",
            "See the caveats in the documentation: http://pandas.pydata.org/pandas-docs/stable/indexing.html#indexing-view-versus-copy\n",
            "  This is separate from the ipykernel package so we can avoid doing imports until\n",
            "/usr/local/lib/python3.6/dist-packages/pandas/core/indexing.py:543: SettingWithCopyWarning: \n",
            "A value is trying to be set on a copy of a slice from a DataFrame.\n",
            "Try using .loc[row_indexer,col_indexer] = value instead\n",
            "\n",
            "See the caveats in the documentation: http://pandas.pydata.org/pandas-docs/stable/indexing.html#indexing-view-versus-copy\n",
            "  self.obj[item] = s\n",
            "/usr/local/lib/python3.6/dist-packages/ipykernel_launcher.py:4: SettingWithCopyWarning: \n",
            "A value is trying to be set on a copy of a slice from a DataFrame.\n",
            "Try using .loc[row_indexer,col_indexer] = value instead\n",
            "\n",
            "See the caveats in the documentation: http://pandas.pydata.org/pandas-docs/stable/indexing.html#indexing-view-versus-copy\n",
            "  after removing the cwd from sys.path.\n",
            "/usr/local/lib/python3.6/dist-packages/pandas/core/indexing.py:543: SettingWithCopyWarning: \n",
            "A value is trying to be set on a copy of a slice from a DataFrame.\n",
            "Try using .loc[row_indexer,col_indexer] = value instead\n",
            "\n",
            "See the caveats in the documentation: http://pandas.pydata.org/pandas-docs/stable/indexing.html#indexing-view-versus-copy\n",
            "  self.obj[item] = s\n"
          ],
          "name": "stderr"
        }
      ]
    },
    {
      "cell_type": "code",
      "metadata": {
        "id": "Qf10OCIr7des",
        "colab_type": "code",
        "outputId": "f115deee-308f-43d2-a878-71ef89b53ab9",
        "colab": {
          "base_uri": "https://localhost:8080/",
          "height": 195
        }
      },
      "source": [
        "x_train.head()"
      ],
      "execution_count": 96,
      "outputs": [
        {
          "output_type": "execute_result",
          "data": {
            "text/html": [
              "<div>\n",
              "<style scoped>\n",
              "    .dataframe tbody tr th:only-of-type {\n",
              "        vertical-align: middle;\n",
              "    }\n",
              "\n",
              "    .dataframe tbody tr th {\n",
              "        vertical-align: top;\n",
              "    }\n",
              "\n",
              "    .dataframe thead th {\n",
              "        text-align: right;\n",
              "    }\n",
              "</style>\n",
              "<table border=\"1\" class=\"dataframe\">\n",
              "  <thead>\n",
              "    <tr style=\"text-align: right;\">\n",
              "      <th></th>\n",
              "      <th>Pclass</th>\n",
              "      <th>Sex</th>\n",
              "      <th>Embarked</th>\n",
              "      <th>FamilySize</th>\n",
              "      <th>Title</th>\n",
              "      <th>FareBin</th>\n",
              "      <th>AgeBin</th>\n",
              "      <th>Fare</th>\n",
              "      <th>Age</th>\n",
              "    </tr>\n",
              "  </thead>\n",
              "  <tbody>\n",
              "    <tr>\n",
              "      <th>0</th>\n",
              "      <td>3</td>\n",
              "      <td>male</td>\n",
              "      <td>S</td>\n",
              "      <td>0.059160</td>\n",
              "      <td>mr</td>\n",
              "      <td>1</td>\n",
              "      <td>3</td>\n",
              "      <td>-0.502445</td>\n",
              "      <td>-0.541486</td>\n",
              "    </tr>\n",
              "    <tr>\n",
              "      <th>1</th>\n",
              "      <td>1</td>\n",
              "      <td>female</td>\n",
              "      <td>C</td>\n",
              "      <td>0.059160</td>\n",
              "      <td>mrs</td>\n",
              "      <td>8</td>\n",
              "      <td>4</td>\n",
              "      <td>0.786845</td>\n",
              "      <td>0.625442</td>\n",
              "    </tr>\n",
              "    <tr>\n",
              "      <th>2</th>\n",
              "      <td>3</td>\n",
              "      <td>female</td>\n",
              "      <td>S</td>\n",
              "      <td>-0.560975</td>\n",
              "      <td>miss</td>\n",
              "      <td>1</td>\n",
              "      <td>3</td>\n",
              "      <td>-0.488854</td>\n",
              "      <td>-0.249754</td>\n",
              "    </tr>\n",
              "    <tr>\n",
              "      <th>3</th>\n",
              "      <td>1</td>\n",
              "      <td>female</td>\n",
              "      <td>S</td>\n",
              "      <td>0.059160</td>\n",
              "      <td>mrs</td>\n",
              "      <td>6</td>\n",
              "      <td>4</td>\n",
              "      <td>0.420730</td>\n",
              "      <td>0.406643</td>\n",
              "    </tr>\n",
              "    <tr>\n",
              "      <th>4</th>\n",
              "      <td>3</td>\n",
              "      <td>male</td>\n",
              "      <td>S</td>\n",
              "      <td>-0.560975</td>\n",
              "      <td>mr</td>\n",
              "      <td>1</td>\n",
              "      <td>4</td>\n",
              "      <td>-0.486337</td>\n",
              "      <td>0.406643</td>\n",
              "    </tr>\n",
              "  </tbody>\n",
              "</table>\n",
              "</div>"
            ],
            "text/plain": [
              "   Pclass     Sex Embarked  FamilySize Title FareBin AgeBin      Fare       Age\n",
              "0       3    male        S    0.059160    mr       1      3 -0.502445 -0.541486\n",
              "1       1  female        C    0.059160   mrs       8      4  0.786845  0.625442\n",
              "2       3  female        S   -0.560975  miss       1      3 -0.488854 -0.249754\n",
              "3       1  female        S    0.059160   mrs       6      4  0.420730  0.406643\n",
              "4       3    male        S   -0.560975    mr       1      4 -0.486337  0.406643"
            ]
          },
          "metadata": {
            "tags": []
          },
          "execution_count": 96
        }
      ]
    },
    {
      "cell_type": "code",
      "metadata": {
        "id": "0C64dEb7-Vd2",
        "colab_type": "code",
        "outputId": "3eb84742-f6a0-4dba-a4c1-5cc4ef3efaec",
        "colab": {
          "base_uri": "https://localhost:8080/",
          "height": 195
        }
      },
      "source": [
        "x_test.head()"
      ],
      "execution_count": 97,
      "outputs": [
        {
          "output_type": "execute_result",
          "data": {
            "text/html": [
              "<div>\n",
              "<style scoped>\n",
              "    .dataframe tbody tr th:only-of-type {\n",
              "        vertical-align: middle;\n",
              "    }\n",
              "\n",
              "    .dataframe tbody tr th {\n",
              "        vertical-align: top;\n",
              "    }\n",
              "\n",
              "    .dataframe thead th {\n",
              "        text-align: right;\n",
              "    }\n",
              "</style>\n",
              "<table border=\"1\" class=\"dataframe\">\n",
              "  <thead>\n",
              "    <tr style=\"text-align: right;\">\n",
              "      <th></th>\n",
              "      <th>Pclass</th>\n",
              "      <th>Sex</th>\n",
              "      <th>Embarked</th>\n",
              "      <th>FamilySize</th>\n",
              "      <th>Title</th>\n",
              "      <th>FareBin</th>\n",
              "      <th>AgeBin</th>\n",
              "      <th>Fare</th>\n",
              "      <th>Age</th>\n",
              "    </tr>\n",
              "  </thead>\n",
              "  <tbody>\n",
              "    <tr>\n",
              "      <th>0</th>\n",
              "      <td>3</td>\n",
              "      <td>male</td>\n",
              "      <td>Q</td>\n",
              "      <td>-0.553443</td>\n",
              "      <td>mr</td>\n",
              "      <td>1</td>\n",
              "      <td>4</td>\n",
              "      <td>-0.497079</td>\n",
              "      <td>0.369711</td>\n",
              "    </tr>\n",
              "    <tr>\n",
              "      <th>1</th>\n",
              "      <td>3</td>\n",
              "      <td>female</td>\n",
              "      <td>S</td>\n",
              "      <td>0.105643</td>\n",
              "      <td>mrs</td>\n",
              "      <td>1</td>\n",
              "      <td>5</td>\n",
              "      <td>-0.511942</td>\n",
              "      <td>1.305481</td>\n",
              "    </tr>\n",
              "    <tr>\n",
              "      <th>2</th>\n",
              "      <td>2</td>\n",
              "      <td>male</td>\n",
              "      <td>Q</td>\n",
              "      <td>-0.553443</td>\n",
              "      <td>mr</td>\n",
              "      <td>1</td>\n",
              "      <td>7</td>\n",
              "      <td>-0.463770</td>\n",
              "      <td>2.428405</td>\n",
              "    </tr>\n",
              "    <tr>\n",
              "      <th>3</th>\n",
              "      <td>3</td>\n",
              "      <td>male</td>\n",
              "      <td>S</td>\n",
              "      <td>-0.553443</td>\n",
              "      <td>mr</td>\n",
              "      <td>1</td>\n",
              "      <td>3</td>\n",
              "      <td>-0.482143</td>\n",
              "      <td>-0.191750</td>\n",
              "    </tr>\n",
              "    <tr>\n",
              "      <th>4</th>\n",
              "      <td>3</td>\n",
              "      <td>female</td>\n",
              "      <td>S</td>\n",
              "      <td>0.764728</td>\n",
              "      <td>mrs</td>\n",
              "      <td>2</td>\n",
              "      <td>3</td>\n",
              "      <td>-0.417167</td>\n",
              "      <td>-0.566058</td>\n",
              "    </tr>\n",
              "  </tbody>\n",
              "</table>\n",
              "</div>"
            ],
            "text/plain": [
              "   Pclass     Sex Embarked  FamilySize Title FareBin AgeBin      Fare       Age\n",
              "0       3    male        Q   -0.553443    mr       1      4 -0.497079  0.369711\n",
              "1       3  female        S    0.105643   mrs       1      5 -0.511942  1.305481\n",
              "2       2    male        Q   -0.553443    mr       1      7 -0.463770  2.428405\n",
              "3       3    male        S   -0.553443    mr       1      3 -0.482143 -0.191750\n",
              "4       3  female        S    0.764728   mrs       2      3 -0.417167 -0.566058"
            ]
          },
          "metadata": {
            "tags": []
          },
          "execution_count": 97
        }
      ]
    },
    {
      "cell_type": "markdown",
      "metadata": {
        "id": "39n_ycFK9GHC",
        "colab_type": "text"
      },
      "source": [
        "### Convert Non-Continuous variables to Categorical Variables"
      ]
    },
    {
      "cell_type": "code",
      "metadata": {
        "id": "SPbhb2g69Lkh",
        "colab_type": "code",
        "outputId": "b2ece668-b6b4-44d2-f9d7-70b650c0d944",
        "colab": {
          "base_uri": "https://localhost:8080/",
          "height": 823
        }
      },
      "source": [
        "x_train['Pclass'] = pd.Categorical(x_train['Pclass'])\n",
        "x_train['Sex'] = pd.Categorical(x_train['Sex'])\n",
        "x_train['Embarked'] = pd.Categorical(x_train['Embarked'])\n",
        "x_train['Title'] = pd.Categorical(x_train['Title'])\n",
        "\n",
        "x_test['Pclass'] = pd.Categorical(x_test['Pclass'])\n",
        "x_test['Sex'] = pd.Categorical(x_test['Sex'])\n",
        "x_test['Embarked'] = pd.Categorical(x_test['Embarked'])\n",
        "x_test['Title'] = pd.Categorical(x_test['Title'])"
      ],
      "execution_count": 98,
      "outputs": [
        {
          "output_type": "stream",
          "text": [
            "/usr/local/lib/python3.6/dist-packages/ipykernel_launcher.py:1: SettingWithCopyWarning: \n",
            "A value is trying to be set on a copy of a slice from a DataFrame.\n",
            "Try using .loc[row_indexer,col_indexer] = value instead\n",
            "\n",
            "See the caveats in the documentation: http://pandas.pydata.org/pandas-docs/stable/indexing.html#indexing-view-versus-copy\n",
            "  \"\"\"Entry point for launching an IPython kernel.\n",
            "/usr/local/lib/python3.6/dist-packages/ipykernel_launcher.py:2: SettingWithCopyWarning: \n",
            "A value is trying to be set on a copy of a slice from a DataFrame.\n",
            "Try using .loc[row_indexer,col_indexer] = value instead\n",
            "\n",
            "See the caveats in the documentation: http://pandas.pydata.org/pandas-docs/stable/indexing.html#indexing-view-versus-copy\n",
            "  \n",
            "/usr/local/lib/python3.6/dist-packages/ipykernel_launcher.py:3: SettingWithCopyWarning: \n",
            "A value is trying to be set on a copy of a slice from a DataFrame.\n",
            "Try using .loc[row_indexer,col_indexer] = value instead\n",
            "\n",
            "See the caveats in the documentation: http://pandas.pydata.org/pandas-docs/stable/indexing.html#indexing-view-versus-copy\n",
            "  This is separate from the ipykernel package so we can avoid doing imports until\n",
            "/usr/local/lib/python3.6/dist-packages/ipykernel_launcher.py:4: SettingWithCopyWarning: \n",
            "A value is trying to be set on a copy of a slice from a DataFrame.\n",
            "Try using .loc[row_indexer,col_indexer] = value instead\n",
            "\n",
            "See the caveats in the documentation: http://pandas.pydata.org/pandas-docs/stable/indexing.html#indexing-view-versus-copy\n",
            "  after removing the cwd from sys.path.\n",
            "/usr/local/lib/python3.6/dist-packages/ipykernel_launcher.py:6: SettingWithCopyWarning: \n",
            "A value is trying to be set on a copy of a slice from a DataFrame.\n",
            "Try using .loc[row_indexer,col_indexer] = value instead\n",
            "\n",
            "See the caveats in the documentation: http://pandas.pydata.org/pandas-docs/stable/indexing.html#indexing-view-versus-copy\n",
            "  \n",
            "/usr/local/lib/python3.6/dist-packages/ipykernel_launcher.py:7: SettingWithCopyWarning: \n",
            "A value is trying to be set on a copy of a slice from a DataFrame.\n",
            "Try using .loc[row_indexer,col_indexer] = value instead\n",
            "\n",
            "See the caveats in the documentation: http://pandas.pydata.org/pandas-docs/stable/indexing.html#indexing-view-versus-copy\n",
            "  import sys\n",
            "/usr/local/lib/python3.6/dist-packages/ipykernel_launcher.py:8: SettingWithCopyWarning: \n",
            "A value is trying to be set on a copy of a slice from a DataFrame.\n",
            "Try using .loc[row_indexer,col_indexer] = value instead\n",
            "\n",
            "See the caveats in the documentation: http://pandas.pydata.org/pandas-docs/stable/indexing.html#indexing-view-versus-copy\n",
            "  \n",
            "/usr/local/lib/python3.6/dist-packages/ipykernel_launcher.py:9: SettingWithCopyWarning: \n",
            "A value is trying to be set on a copy of a slice from a DataFrame.\n",
            "Try using .loc[row_indexer,col_indexer] = value instead\n",
            "\n",
            "See the caveats in the documentation: http://pandas.pydata.org/pandas-docs/stable/indexing.html#indexing-view-versus-copy\n",
            "  if __name__ == '__main__':\n"
          ],
          "name": "stderr"
        }
      ]
    },
    {
      "cell_type": "code",
      "metadata": {
        "id": "RzQfLsPk8dkk",
        "colab_type": "code",
        "outputId": "94420a9e-23d7-4566-f4d9-88132c4e61ef",
        "colab": {
          "base_uri": "https://localhost:8080/",
          "height": 252
        }
      },
      "source": [
        "x_train.info()"
      ],
      "execution_count": 99,
      "outputs": [
        {
          "output_type": "stream",
          "text": [
            "<class 'pandas.core.frame.DataFrame'>\n",
            "RangeIndex: 891 entries, 0 to 890\n",
            "Data columns (total 9 columns):\n",
            "Pclass        891 non-null category\n",
            "Sex           891 non-null category\n",
            "Embarked      891 non-null category\n",
            "FamilySize    891 non-null float64\n",
            "Title         891 non-null category\n",
            "FareBin       891 non-null category\n",
            "AgeBin        891 non-null category\n",
            "Fare          891 non-null float64\n",
            "Age           891 non-null float64\n",
            "dtypes: category(6), float64(3)\n",
            "memory usage: 27.8 KB\n"
          ],
          "name": "stdout"
        }
      ]
    },
    {
      "cell_type": "code",
      "metadata": {
        "id": "V7coh9On--aV",
        "colab_type": "code",
        "outputId": "5d0ca4f6-616d-4f52-c11a-7dd2f89bb13b",
        "colab": {
          "base_uri": "https://localhost:8080/",
          "height": 252
        }
      },
      "source": [
        "x_test.info()"
      ],
      "execution_count": 100,
      "outputs": [
        {
          "output_type": "stream",
          "text": [
            "<class 'pandas.core.frame.DataFrame'>\n",
            "RangeIndex: 418 entries, 0 to 417\n",
            "Data columns (total 9 columns):\n",
            "Pclass        418 non-null category\n",
            "Sex           418 non-null category\n",
            "Embarked      418 non-null category\n",
            "FamilySize    418 non-null float64\n",
            "Title         418 non-null category\n",
            "FareBin       418 non-null category\n",
            "AgeBin        418 non-null category\n",
            "Fare          418 non-null float64\n",
            "Age           418 non-null float64\n",
            "dtypes: category(6), float64(3)\n",
            "memory usage: 13.9 KB\n"
          ],
          "name": "stdout"
        }
      ]
    },
    {
      "cell_type": "markdown",
      "metadata": {
        "id": "gIaItDsaYt8v",
        "colab_type": "text"
      },
      "source": [
        "### Convert Categorical data to dummies"
      ]
    },
    {
      "cell_type": "code",
      "metadata": {
        "id": "mkOm52pPWjbF",
        "colab_type": "code",
        "colab": {}
      },
      "source": [
        "x_train = pd.get_dummies(x_train)\n",
        "x_test = pd.get_dummies(x_test)"
      ],
      "execution_count": 0,
      "outputs": []
    },
    {
      "cell_type": "code",
      "metadata": {
        "id": "JoqKFINzYoqz",
        "colab_type": "code",
        "outputId": "19d390d8-f08a-4750-c1c4-6a303d4101ec",
        "colab": {
          "base_uri": "https://localhost:8080/",
          "height": 215
        }
      },
      "source": [
        "x_train.head()"
      ],
      "execution_count": 102,
      "outputs": [
        {
          "output_type": "execute_result",
          "data": {
            "text/html": [
              "<div>\n",
              "<style scoped>\n",
              "    .dataframe tbody tr th:only-of-type {\n",
              "        vertical-align: middle;\n",
              "    }\n",
              "\n",
              "    .dataframe tbody tr th {\n",
              "        vertical-align: top;\n",
              "    }\n",
              "\n",
              "    .dataframe thead th {\n",
              "        text-align: right;\n",
              "    }\n",
              "</style>\n",
              "<table border=\"1\" class=\"dataframe\">\n",
              "  <thead>\n",
              "    <tr style=\"text-align: right;\">\n",
              "      <th></th>\n",
              "      <th>FamilySize</th>\n",
              "      <th>Fare</th>\n",
              "      <th>Age</th>\n",
              "      <th>Pclass_1</th>\n",
              "      <th>Pclass_2</th>\n",
              "      <th>Pclass_3</th>\n",
              "      <th>Sex_female</th>\n",
              "      <th>Sex_male</th>\n",
              "      <th>Embarked_C</th>\n",
              "      <th>Embarked_Q</th>\n",
              "      <th>Embarked_S</th>\n",
              "      <th>Title_master</th>\n",
              "      <th>Title_miss</th>\n",
              "      <th>Title_mr</th>\n",
              "      <th>Title_mrs</th>\n",
              "      <th>Title_other</th>\n",
              "      <th>FareBin_1</th>\n",
              "      <th>FareBin_2</th>\n",
              "      <th>FareBin_3</th>\n",
              "      <th>FareBin_4</th>\n",
              "      <th>FareBin_5</th>\n",
              "      <th>FareBin_6</th>\n",
              "      <th>FareBin_7</th>\n",
              "      <th>FareBin_8</th>\n",
              "      <th>FareBin_9</th>\n",
              "      <th>FareBin_10</th>\n",
              "      <th>FareBin_11</th>\n",
              "      <th>FareBin_12</th>\n",
              "      <th>FareBin_13</th>\n",
              "      <th>AgeBin_1</th>\n",
              "      <th>AgeBin_2</th>\n",
              "      <th>AgeBin_3</th>\n",
              "      <th>AgeBin_4</th>\n",
              "      <th>AgeBin_5</th>\n",
              "      <th>AgeBin_6</th>\n",
              "      <th>AgeBin_7</th>\n",
              "      <th>AgeBin_8</th>\n",
              "      <th>AgeBin_9</th>\n",
              "    </tr>\n",
              "  </thead>\n",
              "  <tbody>\n",
              "    <tr>\n",
              "      <th>0</th>\n",
              "      <td>0.059160</td>\n",
              "      <td>-0.502445</td>\n",
              "      <td>-0.541486</td>\n",
              "      <td>0</td>\n",
              "      <td>0</td>\n",
              "      <td>1</td>\n",
              "      <td>0</td>\n",
              "      <td>1</td>\n",
              "      <td>0</td>\n",
              "      <td>0</td>\n",
              "      <td>1</td>\n",
              "      <td>0</td>\n",
              "      <td>0</td>\n",
              "      <td>1</td>\n",
              "      <td>0</td>\n",
              "      <td>0</td>\n",
              "      <td>1</td>\n",
              "      <td>0</td>\n",
              "      <td>0</td>\n",
              "      <td>0</td>\n",
              "      <td>0</td>\n",
              "      <td>0</td>\n",
              "      <td>0</td>\n",
              "      <td>0</td>\n",
              "      <td>0</td>\n",
              "      <td>0</td>\n",
              "      <td>0</td>\n",
              "      <td>0</td>\n",
              "      <td>0</td>\n",
              "      <td>0</td>\n",
              "      <td>0</td>\n",
              "      <td>1</td>\n",
              "      <td>0</td>\n",
              "      <td>0</td>\n",
              "      <td>0</td>\n",
              "      <td>0</td>\n",
              "      <td>0</td>\n",
              "      <td>0</td>\n",
              "    </tr>\n",
              "    <tr>\n",
              "      <th>1</th>\n",
              "      <td>0.059160</td>\n",
              "      <td>0.786845</td>\n",
              "      <td>0.625442</td>\n",
              "      <td>1</td>\n",
              "      <td>0</td>\n",
              "      <td>0</td>\n",
              "      <td>1</td>\n",
              "      <td>0</td>\n",
              "      <td>1</td>\n",
              "      <td>0</td>\n",
              "      <td>0</td>\n",
              "      <td>0</td>\n",
              "      <td>0</td>\n",
              "      <td>0</td>\n",
              "      <td>1</td>\n",
              "      <td>0</td>\n",
              "      <td>0</td>\n",
              "      <td>0</td>\n",
              "      <td>0</td>\n",
              "      <td>0</td>\n",
              "      <td>0</td>\n",
              "      <td>0</td>\n",
              "      <td>0</td>\n",
              "      <td>1</td>\n",
              "      <td>0</td>\n",
              "      <td>0</td>\n",
              "      <td>0</td>\n",
              "      <td>0</td>\n",
              "      <td>0</td>\n",
              "      <td>0</td>\n",
              "      <td>0</td>\n",
              "      <td>0</td>\n",
              "      <td>1</td>\n",
              "      <td>0</td>\n",
              "      <td>0</td>\n",
              "      <td>0</td>\n",
              "      <td>0</td>\n",
              "      <td>0</td>\n",
              "    </tr>\n",
              "    <tr>\n",
              "      <th>2</th>\n",
              "      <td>-0.560975</td>\n",
              "      <td>-0.488854</td>\n",
              "      <td>-0.249754</td>\n",
              "      <td>0</td>\n",
              "      <td>0</td>\n",
              "      <td>1</td>\n",
              "      <td>1</td>\n",
              "      <td>0</td>\n",
              "      <td>0</td>\n",
              "      <td>0</td>\n",
              "      <td>1</td>\n",
              "      <td>0</td>\n",
              "      <td>1</td>\n",
              "      <td>0</td>\n",
              "      <td>0</td>\n",
              "      <td>0</td>\n",
              "      <td>1</td>\n",
              "      <td>0</td>\n",
              "      <td>0</td>\n",
              "      <td>0</td>\n",
              "      <td>0</td>\n",
              "      <td>0</td>\n",
              "      <td>0</td>\n",
              "      <td>0</td>\n",
              "      <td>0</td>\n",
              "      <td>0</td>\n",
              "      <td>0</td>\n",
              "      <td>0</td>\n",
              "      <td>0</td>\n",
              "      <td>0</td>\n",
              "      <td>0</td>\n",
              "      <td>1</td>\n",
              "      <td>0</td>\n",
              "      <td>0</td>\n",
              "      <td>0</td>\n",
              "      <td>0</td>\n",
              "      <td>0</td>\n",
              "      <td>0</td>\n",
              "    </tr>\n",
              "    <tr>\n",
              "      <th>3</th>\n",
              "      <td>0.059160</td>\n",
              "      <td>0.420730</td>\n",
              "      <td>0.406643</td>\n",
              "      <td>1</td>\n",
              "      <td>0</td>\n",
              "      <td>0</td>\n",
              "      <td>1</td>\n",
              "      <td>0</td>\n",
              "      <td>0</td>\n",
              "      <td>0</td>\n",
              "      <td>1</td>\n",
              "      <td>0</td>\n",
              "      <td>0</td>\n",
              "      <td>0</td>\n",
              "      <td>1</td>\n",
              "      <td>0</td>\n",
              "      <td>0</td>\n",
              "      <td>0</td>\n",
              "      <td>0</td>\n",
              "      <td>0</td>\n",
              "      <td>0</td>\n",
              "      <td>1</td>\n",
              "      <td>0</td>\n",
              "      <td>0</td>\n",
              "      <td>0</td>\n",
              "      <td>0</td>\n",
              "      <td>0</td>\n",
              "      <td>0</td>\n",
              "      <td>0</td>\n",
              "      <td>0</td>\n",
              "      <td>0</td>\n",
              "      <td>0</td>\n",
              "      <td>1</td>\n",
              "      <td>0</td>\n",
              "      <td>0</td>\n",
              "      <td>0</td>\n",
              "      <td>0</td>\n",
              "      <td>0</td>\n",
              "    </tr>\n",
              "    <tr>\n",
              "      <th>4</th>\n",
              "      <td>-0.560975</td>\n",
              "      <td>-0.486337</td>\n",
              "      <td>0.406643</td>\n",
              "      <td>0</td>\n",
              "      <td>0</td>\n",
              "      <td>1</td>\n",
              "      <td>0</td>\n",
              "      <td>1</td>\n",
              "      <td>0</td>\n",
              "      <td>0</td>\n",
              "      <td>1</td>\n",
              "      <td>0</td>\n",
              "      <td>0</td>\n",
              "      <td>1</td>\n",
              "      <td>0</td>\n",
              "      <td>0</td>\n",
              "      <td>1</td>\n",
              "      <td>0</td>\n",
              "      <td>0</td>\n",
              "      <td>0</td>\n",
              "      <td>0</td>\n",
              "      <td>0</td>\n",
              "      <td>0</td>\n",
              "      <td>0</td>\n",
              "      <td>0</td>\n",
              "      <td>0</td>\n",
              "      <td>0</td>\n",
              "      <td>0</td>\n",
              "      <td>0</td>\n",
              "      <td>0</td>\n",
              "      <td>0</td>\n",
              "      <td>0</td>\n",
              "      <td>1</td>\n",
              "      <td>0</td>\n",
              "      <td>0</td>\n",
              "      <td>0</td>\n",
              "      <td>0</td>\n",
              "      <td>0</td>\n",
              "    </tr>\n",
              "  </tbody>\n",
              "</table>\n",
              "</div>"
            ],
            "text/plain": [
              "   FamilySize      Fare       Age  ...  AgeBin_7  AgeBin_8  AgeBin_9\n",
              "0    0.059160 -0.502445 -0.541486  ...         0         0         0\n",
              "1    0.059160  0.786845  0.625442  ...         0         0         0\n",
              "2   -0.560975 -0.488854 -0.249754  ...         0         0         0\n",
              "3    0.059160  0.420730  0.406643  ...         0         0         0\n",
              "4   -0.560975 -0.486337  0.406643  ...         0         0         0\n",
              "\n",
              "[5 rows x 38 columns]"
            ]
          },
          "metadata": {
            "tags": []
          },
          "execution_count": 102
        }
      ]
    },
    {
      "cell_type": "code",
      "metadata": {
        "id": "aejIRN3rZHgD",
        "colab_type": "code",
        "outputId": "eb562894-fca1-472b-b9dd-b81995a4cf3b",
        "colab": {
          "base_uri": "https://localhost:8080/",
          "height": 215
        }
      },
      "source": [
        "x_test.head()"
      ],
      "execution_count": 103,
      "outputs": [
        {
          "output_type": "execute_result",
          "data": {
            "text/html": [
              "<div>\n",
              "<style scoped>\n",
              "    .dataframe tbody tr th:only-of-type {\n",
              "        vertical-align: middle;\n",
              "    }\n",
              "\n",
              "    .dataframe tbody tr th {\n",
              "        vertical-align: top;\n",
              "    }\n",
              "\n",
              "    .dataframe thead th {\n",
              "        text-align: right;\n",
              "    }\n",
              "</style>\n",
              "<table border=\"1\" class=\"dataframe\">\n",
              "  <thead>\n",
              "    <tr style=\"text-align: right;\">\n",
              "      <th></th>\n",
              "      <th>FamilySize</th>\n",
              "      <th>Fare</th>\n",
              "      <th>Age</th>\n",
              "      <th>Pclass_1</th>\n",
              "      <th>Pclass_2</th>\n",
              "      <th>Pclass_3</th>\n",
              "      <th>Sex_female</th>\n",
              "      <th>Sex_male</th>\n",
              "      <th>Embarked_C</th>\n",
              "      <th>Embarked_Q</th>\n",
              "      <th>Embarked_S</th>\n",
              "      <th>Title_master</th>\n",
              "      <th>Title_miss</th>\n",
              "      <th>Title_mr</th>\n",
              "      <th>Title_mrs</th>\n",
              "      <th>Title_other</th>\n",
              "      <th>FareBin_1</th>\n",
              "      <th>FareBin_2</th>\n",
              "      <th>FareBin_3</th>\n",
              "      <th>FareBin_4</th>\n",
              "      <th>FareBin_5</th>\n",
              "      <th>FareBin_6</th>\n",
              "      <th>FareBin_7</th>\n",
              "      <th>FareBin_8</th>\n",
              "      <th>FareBin_9</th>\n",
              "      <th>FareBin_10</th>\n",
              "      <th>FareBin_11</th>\n",
              "      <th>FareBin_12</th>\n",
              "      <th>FareBin_13</th>\n",
              "      <th>AgeBin_1</th>\n",
              "      <th>AgeBin_2</th>\n",
              "      <th>AgeBin_3</th>\n",
              "      <th>AgeBin_4</th>\n",
              "      <th>AgeBin_5</th>\n",
              "      <th>AgeBin_6</th>\n",
              "      <th>AgeBin_7</th>\n",
              "      <th>AgeBin_8</th>\n",
              "      <th>AgeBin_9</th>\n",
              "    </tr>\n",
              "  </thead>\n",
              "  <tbody>\n",
              "    <tr>\n",
              "      <th>0</th>\n",
              "      <td>-0.553443</td>\n",
              "      <td>-0.497079</td>\n",
              "      <td>0.369711</td>\n",
              "      <td>0</td>\n",
              "      <td>0</td>\n",
              "      <td>1</td>\n",
              "      <td>0</td>\n",
              "      <td>1</td>\n",
              "      <td>0</td>\n",
              "      <td>1</td>\n",
              "      <td>0</td>\n",
              "      <td>0</td>\n",
              "      <td>0</td>\n",
              "      <td>1</td>\n",
              "      <td>0</td>\n",
              "      <td>0</td>\n",
              "      <td>1</td>\n",
              "      <td>0</td>\n",
              "      <td>0</td>\n",
              "      <td>0</td>\n",
              "      <td>0</td>\n",
              "      <td>0</td>\n",
              "      <td>0</td>\n",
              "      <td>0</td>\n",
              "      <td>0</td>\n",
              "      <td>0</td>\n",
              "      <td>0</td>\n",
              "      <td>0</td>\n",
              "      <td>0</td>\n",
              "      <td>0</td>\n",
              "      <td>0</td>\n",
              "      <td>0</td>\n",
              "      <td>1</td>\n",
              "      <td>0</td>\n",
              "      <td>0</td>\n",
              "      <td>0</td>\n",
              "      <td>0</td>\n",
              "      <td>0</td>\n",
              "    </tr>\n",
              "    <tr>\n",
              "      <th>1</th>\n",
              "      <td>0.105643</td>\n",
              "      <td>-0.511942</td>\n",
              "      <td>1.305481</td>\n",
              "      <td>0</td>\n",
              "      <td>0</td>\n",
              "      <td>1</td>\n",
              "      <td>1</td>\n",
              "      <td>0</td>\n",
              "      <td>0</td>\n",
              "      <td>0</td>\n",
              "      <td>1</td>\n",
              "      <td>0</td>\n",
              "      <td>0</td>\n",
              "      <td>0</td>\n",
              "      <td>1</td>\n",
              "      <td>0</td>\n",
              "      <td>1</td>\n",
              "      <td>0</td>\n",
              "      <td>0</td>\n",
              "      <td>0</td>\n",
              "      <td>0</td>\n",
              "      <td>0</td>\n",
              "      <td>0</td>\n",
              "      <td>0</td>\n",
              "      <td>0</td>\n",
              "      <td>0</td>\n",
              "      <td>0</td>\n",
              "      <td>0</td>\n",
              "      <td>0</td>\n",
              "      <td>0</td>\n",
              "      <td>0</td>\n",
              "      <td>0</td>\n",
              "      <td>0</td>\n",
              "      <td>1</td>\n",
              "      <td>0</td>\n",
              "      <td>0</td>\n",
              "      <td>0</td>\n",
              "      <td>0</td>\n",
              "    </tr>\n",
              "    <tr>\n",
              "      <th>2</th>\n",
              "      <td>-0.553443</td>\n",
              "      <td>-0.463770</td>\n",
              "      <td>2.428405</td>\n",
              "      <td>0</td>\n",
              "      <td>1</td>\n",
              "      <td>0</td>\n",
              "      <td>0</td>\n",
              "      <td>1</td>\n",
              "      <td>0</td>\n",
              "      <td>1</td>\n",
              "      <td>0</td>\n",
              "      <td>0</td>\n",
              "      <td>0</td>\n",
              "      <td>1</td>\n",
              "      <td>0</td>\n",
              "      <td>0</td>\n",
              "      <td>1</td>\n",
              "      <td>0</td>\n",
              "      <td>0</td>\n",
              "      <td>0</td>\n",
              "      <td>0</td>\n",
              "      <td>0</td>\n",
              "      <td>0</td>\n",
              "      <td>0</td>\n",
              "      <td>0</td>\n",
              "      <td>0</td>\n",
              "      <td>0</td>\n",
              "      <td>0</td>\n",
              "      <td>0</td>\n",
              "      <td>0</td>\n",
              "      <td>0</td>\n",
              "      <td>0</td>\n",
              "      <td>0</td>\n",
              "      <td>0</td>\n",
              "      <td>0</td>\n",
              "      <td>1</td>\n",
              "      <td>0</td>\n",
              "      <td>0</td>\n",
              "    </tr>\n",
              "    <tr>\n",
              "      <th>3</th>\n",
              "      <td>-0.553443</td>\n",
              "      <td>-0.482143</td>\n",
              "      <td>-0.191750</td>\n",
              "      <td>0</td>\n",
              "      <td>0</td>\n",
              "      <td>1</td>\n",
              "      <td>0</td>\n",
              "      <td>1</td>\n",
              "      <td>0</td>\n",
              "      <td>0</td>\n",
              "      <td>1</td>\n",
              "      <td>0</td>\n",
              "      <td>0</td>\n",
              "      <td>1</td>\n",
              "      <td>0</td>\n",
              "      <td>0</td>\n",
              "      <td>1</td>\n",
              "      <td>0</td>\n",
              "      <td>0</td>\n",
              "      <td>0</td>\n",
              "      <td>0</td>\n",
              "      <td>0</td>\n",
              "      <td>0</td>\n",
              "      <td>0</td>\n",
              "      <td>0</td>\n",
              "      <td>0</td>\n",
              "      <td>0</td>\n",
              "      <td>0</td>\n",
              "      <td>0</td>\n",
              "      <td>0</td>\n",
              "      <td>0</td>\n",
              "      <td>1</td>\n",
              "      <td>0</td>\n",
              "      <td>0</td>\n",
              "      <td>0</td>\n",
              "      <td>0</td>\n",
              "      <td>0</td>\n",
              "      <td>0</td>\n",
              "    </tr>\n",
              "    <tr>\n",
              "      <th>4</th>\n",
              "      <td>0.764728</td>\n",
              "      <td>-0.417167</td>\n",
              "      <td>-0.566058</td>\n",
              "      <td>0</td>\n",
              "      <td>0</td>\n",
              "      <td>1</td>\n",
              "      <td>1</td>\n",
              "      <td>0</td>\n",
              "      <td>0</td>\n",
              "      <td>0</td>\n",
              "      <td>1</td>\n",
              "      <td>0</td>\n",
              "      <td>0</td>\n",
              "      <td>0</td>\n",
              "      <td>1</td>\n",
              "      <td>0</td>\n",
              "      <td>0</td>\n",
              "      <td>1</td>\n",
              "      <td>0</td>\n",
              "      <td>0</td>\n",
              "      <td>0</td>\n",
              "      <td>0</td>\n",
              "      <td>0</td>\n",
              "      <td>0</td>\n",
              "      <td>0</td>\n",
              "      <td>0</td>\n",
              "      <td>0</td>\n",
              "      <td>0</td>\n",
              "      <td>0</td>\n",
              "      <td>0</td>\n",
              "      <td>0</td>\n",
              "      <td>1</td>\n",
              "      <td>0</td>\n",
              "      <td>0</td>\n",
              "      <td>0</td>\n",
              "      <td>0</td>\n",
              "      <td>0</td>\n",
              "      <td>0</td>\n",
              "    </tr>\n",
              "  </tbody>\n",
              "</table>\n",
              "</div>"
            ],
            "text/plain": [
              "   FamilySize      Fare       Age  ...  AgeBin_7  AgeBin_8  AgeBin_9\n",
              "0   -0.553443 -0.497079  0.369711  ...         0         0         0\n",
              "1    0.105643 -0.511942  1.305481  ...         0         0         0\n",
              "2   -0.553443 -0.463770  2.428405  ...         1         0         0\n",
              "3   -0.553443 -0.482143 -0.191750  ...         0         0         0\n",
              "4    0.764728 -0.417167 -0.566058  ...         0         0         0\n",
              "\n",
              "[5 rows x 38 columns]"
            ]
          },
          "metadata": {
            "tags": []
          },
          "execution_count": 103
        }
      ]
    },
    {
      "cell_type": "markdown",
      "metadata": {
        "id": "eDtL5vXIZ_ir",
        "colab_type": "text"
      },
      "source": [
        "## Save the data into new files"
      ]
    },
    {
      "cell_type": "code",
      "metadata": {
        "id": "nwukWBubZ2NH",
        "colab_type": "code",
        "colab": {}
      },
      "source": [
        "X = x_train.copy()\n",
        "y = y_train.copy()\n",
        "test_data = x_test.copy()\n",
        "\n",
        "X.to_csv('X.csv', index=False, header=True)\n",
        "test_data.to_csv('test_data.csv', index=False, header=True)\n",
        "y.to_csv('y.csv', index=False, header=True)\n"
      ],
      "execution_count": 0,
      "outputs": []
    },
    {
      "cell_type": "markdown",
      "metadata": {
        "id": "mV1F3bH4H5Vb",
        "colab_type": "text"
      },
      "source": [
        "### Save the Scaler to use in deployment"
      ]
    },
    {
      "cell_type": "code",
      "metadata": {
        "id": "5RLRaJJ2CzqP",
        "colab_type": "code",
        "outputId": "64af9c64-56cd-4660-b5fd-d6c0ea4b720f",
        "colab": {
          "base_uri": "https://localhost:8080/",
          "height": 34
        }
      },
      "source": [
        "from sklearn.externals import joblib\n",
        "\n",
        "joblib.dump(scaler, 'scaler.pkl')"
      ],
      "execution_count": 105,
      "outputs": [
        {
          "output_type": "execute_result",
          "data": {
            "text/plain": [
              "['scaler.pkl']"
            ]
          },
          "metadata": {
            "tags": []
          },
          "execution_count": 105
        }
      ]
    },
    {
      "cell_type": "markdown",
      "metadata": {
        "id": "MZYebUktQI-0",
        "colab_type": "text"
      },
      "source": [
        "# Model"
      ]
    },
    {
      "cell_type": "markdown",
      "metadata": {
        "colab_type": "text",
        "id": "0V36YhCaQisl"
      },
      "source": [
        "## Import Libraries"
      ]
    },
    {
      "cell_type": "code",
      "metadata": {
        "colab_type": "code",
        "id": "7BSI5uiuQism",
        "colab": {}
      },
      "source": [
        "from sklearn.model_selection import train_test_split\n",
        "from sklearn.metrics import classification_report\n",
        "from sklearn.neighbors import KNeighborsClassifier\n",
        "from sklearn.svm import SVC\n",
        "from sklearn.gaussian_process import GaussianProcessClassifier\n",
        "from sklearn.gaussian_process.kernels import RBF\n",
        "from sklearn.tree import DecisionTreeClassifier\n",
        "from sklearn.ensemble import RandomForestClassifier, AdaBoostClassifier\n",
        "from sklearn.naive_bayes import GaussianNB\n",
        "from sklearn.neural_network import MLPClassifier\n",
        "from sklearn.linear_model import LogisticRegressionCV\n",
        "from xgboost import XGBClassifier"
      ],
      "execution_count": 0,
      "outputs": []
    },
    {
      "cell_type": "markdown",
      "metadata": {
        "id": "lLXpEhe6QtxA",
        "colab_type": "text"
      },
      "source": [
        "## Train-Validation set split"
      ]
    },
    {
      "cell_type": "code",
      "metadata": {
        "id": "F6_UKMEAQz2u",
        "colab_type": "code",
        "colab": {}
      },
      "source": [
        "X_train, X_valid, y_train, y_valid = train_test_split(X, y, test_size=0.2, random_state=25)"
      ],
      "execution_count": 0,
      "outputs": []
    },
    {
      "cell_type": "code",
      "metadata": {
        "id": "CGNTPGG7Q6Pm",
        "colab_type": "code",
        "colab": {
          "base_uri": "https://localhost:8080/",
          "height": 215
        },
        "outputId": "37ac847b-7e54-480f-e7b1-3ff15ac54a1b"
      },
      "source": [
        "X_train.head()"
      ],
      "execution_count": 108,
      "outputs": [
        {
          "output_type": "execute_result",
          "data": {
            "text/html": [
              "<div>\n",
              "<style scoped>\n",
              "    .dataframe tbody tr th:only-of-type {\n",
              "        vertical-align: middle;\n",
              "    }\n",
              "\n",
              "    .dataframe tbody tr th {\n",
              "        vertical-align: top;\n",
              "    }\n",
              "\n",
              "    .dataframe thead th {\n",
              "        text-align: right;\n",
              "    }\n",
              "</style>\n",
              "<table border=\"1\" class=\"dataframe\">\n",
              "  <thead>\n",
              "    <tr style=\"text-align: right;\">\n",
              "      <th></th>\n",
              "      <th>FamilySize</th>\n",
              "      <th>Fare</th>\n",
              "      <th>Age</th>\n",
              "      <th>Pclass_1</th>\n",
              "      <th>Pclass_2</th>\n",
              "      <th>Pclass_3</th>\n",
              "      <th>Sex_female</th>\n",
              "      <th>Sex_male</th>\n",
              "      <th>Embarked_C</th>\n",
              "      <th>Embarked_Q</th>\n",
              "      <th>Embarked_S</th>\n",
              "      <th>Title_master</th>\n",
              "      <th>Title_miss</th>\n",
              "      <th>Title_mr</th>\n",
              "      <th>Title_mrs</th>\n",
              "      <th>Title_other</th>\n",
              "      <th>FareBin_1</th>\n",
              "      <th>FareBin_2</th>\n",
              "      <th>FareBin_3</th>\n",
              "      <th>FareBin_4</th>\n",
              "      <th>FareBin_5</th>\n",
              "      <th>FareBin_6</th>\n",
              "      <th>FareBin_7</th>\n",
              "      <th>FareBin_8</th>\n",
              "      <th>FareBin_9</th>\n",
              "      <th>FareBin_10</th>\n",
              "      <th>FareBin_11</th>\n",
              "      <th>FareBin_12</th>\n",
              "      <th>FareBin_13</th>\n",
              "      <th>AgeBin_1</th>\n",
              "      <th>AgeBin_2</th>\n",
              "      <th>AgeBin_3</th>\n",
              "      <th>AgeBin_4</th>\n",
              "      <th>AgeBin_5</th>\n",
              "      <th>AgeBin_6</th>\n",
              "      <th>AgeBin_7</th>\n",
              "      <th>AgeBin_8</th>\n",
              "      <th>AgeBin_9</th>\n",
              "    </tr>\n",
              "  </thead>\n",
              "  <tbody>\n",
              "    <tr>\n",
              "      <th>410</th>\n",
              "      <td>-0.560975</td>\n",
              "      <td>-0.489442</td>\n",
              "      <td>-0.249754</td>\n",
              "      <td>0</td>\n",
              "      <td>0</td>\n",
              "      <td>1</td>\n",
              "      <td>0</td>\n",
              "      <td>1</td>\n",
              "      <td>0</td>\n",
              "      <td>0</td>\n",
              "      <td>1</td>\n",
              "      <td>0</td>\n",
              "      <td>0</td>\n",
              "      <td>1</td>\n",
              "      <td>0</td>\n",
              "      <td>0</td>\n",
              "      <td>1</td>\n",
              "      <td>0</td>\n",
              "      <td>0</td>\n",
              "      <td>0</td>\n",
              "      <td>0</td>\n",
              "      <td>0</td>\n",
              "      <td>0</td>\n",
              "      <td>0</td>\n",
              "      <td>0</td>\n",
              "      <td>0</td>\n",
              "      <td>0</td>\n",
              "      <td>0</td>\n",
              "      <td>0</td>\n",
              "      <td>0</td>\n",
              "      <td>0</td>\n",
              "      <td>1</td>\n",
              "      <td>0</td>\n",
              "      <td>0</td>\n",
              "      <td>0</td>\n",
              "      <td>0</td>\n",
              "      <td>0</td>\n",
              "      <td>0</td>\n",
              "    </tr>\n",
              "    <tr>\n",
              "      <th>638</th>\n",
              "      <td>2.539699</td>\n",
              "      <td>0.150674</td>\n",
              "      <td>0.844241</td>\n",
              "      <td>0</td>\n",
              "      <td>0</td>\n",
              "      <td>1</td>\n",
              "      <td>1</td>\n",
              "      <td>0</td>\n",
              "      <td>0</td>\n",
              "      <td>0</td>\n",
              "      <td>1</td>\n",
              "      <td>0</td>\n",
              "      <td>0</td>\n",
              "      <td>0</td>\n",
              "      <td>1</td>\n",
              "      <td>0</td>\n",
              "      <td>0</td>\n",
              "      <td>0</td>\n",
              "      <td>0</td>\n",
              "      <td>1</td>\n",
              "      <td>0</td>\n",
              "      <td>0</td>\n",
              "      <td>0</td>\n",
              "      <td>0</td>\n",
              "      <td>0</td>\n",
              "      <td>0</td>\n",
              "      <td>0</td>\n",
              "      <td>0</td>\n",
              "      <td>0</td>\n",
              "      <td>0</td>\n",
              "      <td>0</td>\n",
              "      <td>0</td>\n",
              "      <td>0</td>\n",
              "      <td>1</td>\n",
              "      <td>0</td>\n",
              "      <td>0</td>\n",
              "      <td>0</td>\n",
              "      <td>0</td>\n",
              "    </tr>\n",
              "    <tr>\n",
              "      <th>395</th>\n",
              "      <td>-0.560975</td>\n",
              "      <td>-0.491456</td>\n",
              "      <td>-0.541486</td>\n",
              "      <td>0</td>\n",
              "      <td>0</td>\n",
              "      <td>1</td>\n",
              "      <td>0</td>\n",
              "      <td>1</td>\n",
              "      <td>0</td>\n",
              "      <td>0</td>\n",
              "      <td>1</td>\n",
              "      <td>0</td>\n",
              "      <td>0</td>\n",
              "      <td>1</td>\n",
              "      <td>0</td>\n",
              "      <td>0</td>\n",
              "      <td>1</td>\n",
              "      <td>0</td>\n",
              "      <td>0</td>\n",
              "      <td>0</td>\n",
              "      <td>0</td>\n",
              "      <td>0</td>\n",
              "      <td>0</td>\n",
              "      <td>0</td>\n",
              "      <td>0</td>\n",
              "      <td>0</td>\n",
              "      <td>0</td>\n",
              "      <td>0</td>\n",
              "      <td>0</td>\n",
              "      <td>0</td>\n",
              "      <td>0</td>\n",
              "      <td>1</td>\n",
              "      <td>0</td>\n",
              "      <td>0</td>\n",
              "      <td>0</td>\n",
              "      <td>0</td>\n",
              "      <td>0</td>\n",
              "      <td>0</td>\n",
              "    </tr>\n",
              "    <tr>\n",
              "      <th>221</th>\n",
              "      <td>-0.560975</td>\n",
              "      <td>-0.386671</td>\n",
              "      <td>-0.176821</td>\n",
              "      <td>0</td>\n",
              "      <td>1</td>\n",
              "      <td>0</td>\n",
              "      <td>0</td>\n",
              "      <td>1</td>\n",
              "      <td>0</td>\n",
              "      <td>0</td>\n",
              "      <td>1</td>\n",
              "      <td>0</td>\n",
              "      <td>0</td>\n",
              "      <td>1</td>\n",
              "      <td>0</td>\n",
              "      <td>0</td>\n",
              "      <td>0</td>\n",
              "      <td>1</td>\n",
              "      <td>0</td>\n",
              "      <td>0</td>\n",
              "      <td>0</td>\n",
              "      <td>0</td>\n",
              "      <td>0</td>\n",
              "      <td>0</td>\n",
              "      <td>0</td>\n",
              "      <td>0</td>\n",
              "      <td>0</td>\n",
              "      <td>0</td>\n",
              "      <td>0</td>\n",
              "      <td>0</td>\n",
              "      <td>0</td>\n",
              "      <td>1</td>\n",
              "      <td>0</td>\n",
              "      <td>0</td>\n",
              "      <td>0</td>\n",
              "      <td>0</td>\n",
              "      <td>0</td>\n",
              "      <td>0</td>\n",
              "    </tr>\n",
              "    <tr>\n",
              "      <th>800</th>\n",
              "      <td>-0.560975</td>\n",
              "      <td>-0.386671</td>\n",
              "      <td>0.333710</td>\n",
              "      <td>0</td>\n",
              "      <td>1</td>\n",
              "      <td>0</td>\n",
              "      <td>0</td>\n",
              "      <td>1</td>\n",
              "      <td>0</td>\n",
              "      <td>0</td>\n",
              "      <td>1</td>\n",
              "      <td>0</td>\n",
              "      <td>0</td>\n",
              "      <td>1</td>\n",
              "      <td>0</td>\n",
              "      <td>0</td>\n",
              "      <td>0</td>\n",
              "      <td>1</td>\n",
              "      <td>0</td>\n",
              "      <td>0</td>\n",
              "      <td>0</td>\n",
              "      <td>0</td>\n",
              "      <td>0</td>\n",
              "      <td>0</td>\n",
              "      <td>0</td>\n",
              "      <td>0</td>\n",
              "      <td>0</td>\n",
              "      <td>0</td>\n",
              "      <td>0</td>\n",
              "      <td>0</td>\n",
              "      <td>0</td>\n",
              "      <td>0</td>\n",
              "      <td>1</td>\n",
              "      <td>0</td>\n",
              "      <td>0</td>\n",
              "      <td>0</td>\n",
              "      <td>0</td>\n",
              "      <td>0</td>\n",
              "    </tr>\n",
              "  </tbody>\n",
              "</table>\n",
              "</div>"
            ],
            "text/plain": [
              "     FamilySize      Fare       Age  ...  AgeBin_7  AgeBin_8  AgeBin_9\n",
              "410   -0.560975 -0.489442 -0.249754  ...         0         0         0\n",
              "638    2.539699  0.150674  0.844241  ...         0         0         0\n",
              "395   -0.560975 -0.491456 -0.541486  ...         0         0         0\n",
              "221   -0.560975 -0.386671 -0.176821  ...         0         0         0\n",
              "800   -0.560975 -0.386671  0.333710  ...         0         0         0\n",
              "\n",
              "[5 rows x 38 columns]"
            ]
          },
          "metadata": {
            "tags": []
          },
          "execution_count": 108
        }
      ]
    },
    {
      "cell_type": "code",
      "metadata": {
        "id": "IeSUHk7eQ8iR",
        "colab_type": "code",
        "colab": {
          "base_uri": "https://localhost:8080/",
          "height": 67
        },
        "outputId": "aaca7dfc-5dfd-4e61-daa8-4b2bf277f974"
      },
      "source": [
        "y_train.value_counts()"
      ],
      "execution_count": 109,
      "outputs": [
        {
          "output_type": "execute_result",
          "data": {
            "text/plain": [
              "0    437\n",
              "1    275\n",
              "Name: Survived, dtype: int64"
            ]
          },
          "metadata": {
            "tags": []
          },
          "execution_count": 109
        }
      ]
    },
    {
      "cell_type": "code",
      "metadata": {
        "id": "FXD0eWZjQ-Lo",
        "colab_type": "code",
        "colab": {
          "base_uri": "https://localhost:8080/",
          "height": 67
        },
        "outputId": "b85a97e9-09a1-448a-ecef-38300b27e9ab"
      },
      "source": [
        "y_valid.value_counts()"
      ],
      "execution_count": 110,
      "outputs": [
        {
          "output_type": "execute_result",
          "data": {
            "text/plain": [
              "0    112\n",
              "1     67\n",
              "Name: Survived, dtype: int64"
            ]
          },
          "metadata": {
            "tags": []
          },
          "execution_count": 110
        }
      ]
    },
    {
      "cell_type": "markdown",
      "metadata": {
        "id": "FDajExQ4RZWU",
        "colab_type": "text"
      },
      "source": [
        "The resultant Training and Validation sets after the split look like a true fit for the original data, so we will proceed with these sets"
      ]
    },
    {
      "cell_type": "markdown",
      "metadata": {
        "id": "A1u5JEpaL494",
        "colab_type": "text"
      },
      "source": [
        "## Model Comparison (Validation Set)"
      ]
    },
    {
      "cell_type": "markdown",
      "metadata": {
        "id": "nMUMpf0IeCR_",
        "colab_type": "text"
      },
      "source": [
        "### Gaussian NB classifier"
      ]
    },
    {
      "cell_type": "code",
      "metadata": {
        "id": "IoHr69tANYxv",
        "colab_type": "code",
        "outputId": "f82bf112-f9c3-4d18-9811-0135f4b92697",
        "colab": {
          "base_uri": "https://localhost:8080/",
          "height": 168
        }
      },
      "source": [
        "gnb_clf = GaussianNB()\n",
        "gnb_clf.fit(X_train, y_train)\n",
        "gnb_prediction = gnb_clf.predict(X_valid)\n",
        "print(classification_report(y_valid, gnb_prediction))\n"
      ],
      "execution_count": 111,
      "outputs": [
        {
          "output_type": "stream",
          "text": [
            "              precision    recall  f1-score   support\n",
            "\n",
            "           0       0.70      0.90      0.79       112\n",
            "           1       0.68      0.34      0.46        67\n",
            "\n",
            "    accuracy                           0.69       179\n",
            "   macro avg       0.69      0.62      0.62       179\n",
            "weighted avg       0.69      0.69      0.66       179\n",
            "\n"
          ],
          "name": "stdout"
        }
      ]
    },
    {
      "cell_type": "markdown",
      "metadata": {
        "id": "HbVGhUpif2oa",
        "colab_type": "text"
      },
      "source": [
        "### Support Vector Classifier"
      ]
    },
    {
      "cell_type": "code",
      "metadata": {
        "id": "_Id0XIY7fu8C",
        "colab_type": "code",
        "outputId": "21286551-c293-4fcf-fc69-b1a82167c08d",
        "colab": {
          "base_uri": "https://localhost:8080/",
          "height": 168
        }
      },
      "source": [
        "svc_clf = SVC(kernel='linear')\n",
        "svc_clf.fit(X_train, y_train)\n",
        "svc_prediction = svc_clf.predict(X_valid)\n",
        "print(classification_report(y_valid, svc_prediction))\n"
      ],
      "execution_count": 112,
      "outputs": [
        {
          "output_type": "stream",
          "text": [
            "              precision    recall  f1-score   support\n",
            "\n",
            "           0       0.85      0.83      0.84       112\n",
            "           1       0.72      0.75      0.74        67\n",
            "\n",
            "    accuracy                           0.80       179\n",
            "   macro avg       0.79      0.79      0.79       179\n",
            "weighted avg       0.80      0.80      0.80       179\n",
            "\n"
          ],
          "name": "stdout"
        }
      ]
    },
    {
      "cell_type": "markdown",
      "metadata": {
        "id": "u1VvjTD-g4_o",
        "colab_type": "text"
      },
      "source": [
        "### Decision Tree Classifier"
      ]
    },
    {
      "cell_type": "code",
      "metadata": {
        "id": "cO_TViUqfIzk",
        "colab_type": "code",
        "outputId": "bea23889-cd54-49a5-a962-ab3a00f775dd",
        "colab": {
          "base_uri": "https://localhost:8080/",
          "height": 168
        }
      },
      "source": [
        "tree_clf = DecisionTreeClassifier(max_depth=5)\n",
        "tree_clf.fit(X_train, y_train)\n",
        "tree_prediction = tree_clf.predict(X_valid)\n",
        "print(classification_report(y_valid, tree_prediction))\n"
      ],
      "execution_count": 113,
      "outputs": [
        {
          "output_type": "stream",
          "text": [
            "              precision    recall  f1-score   support\n",
            "\n",
            "           0       0.83      0.84      0.84       112\n",
            "           1       0.73      0.72      0.72        67\n",
            "\n",
            "    accuracy                           0.79       179\n",
            "   macro avg       0.78      0.78      0.78       179\n",
            "weighted avg       0.79      0.79      0.79       179\n",
            "\n"
          ],
          "name": "stdout"
        }
      ]
    },
    {
      "cell_type": "markdown",
      "metadata": {
        "id": "pV9qqrydmY-W",
        "colab_type": "text"
      },
      "source": [
        "### Random Forest Classifier"
      ]
    },
    {
      "cell_type": "code",
      "metadata": {
        "id": "Ri2IKE4umLyr",
        "colab_type": "code",
        "outputId": "1734df37-86c6-4fa7-965a-c99693ff7666",
        "colab": {
          "base_uri": "https://localhost:8080/",
          "height": 168
        }
      },
      "source": [
        "rf_clf = RandomForestClassifier(n_estimators=200, max_depth=10)\n",
        "rf_clf.fit(X_train, y_train)\n",
        "rf_prediction = rf_clf.predict(X_valid)\n",
        "print(classification_report(y_valid, rf_prediction))\n"
      ],
      "execution_count": 114,
      "outputs": [
        {
          "output_type": "stream",
          "text": [
            "              precision    recall  f1-score   support\n",
            "\n",
            "           0       0.85      0.88      0.86       112\n",
            "           1       0.78      0.75      0.76        67\n",
            "\n",
            "    accuracy                           0.83       179\n",
            "   macro avg       0.82      0.81      0.81       179\n",
            "weighted avg       0.83      0.83      0.83       179\n",
            "\n"
          ],
          "name": "stdout"
        }
      ]
    },
    {
      "cell_type": "markdown",
      "metadata": {
        "id": "xTdYTf1tmdIQ",
        "colab_type": "text"
      },
      "source": [
        "### Adaboost Classifier"
      ]
    },
    {
      "cell_type": "code",
      "metadata": {
        "id": "4YeR6eeqmfuv",
        "colab_type": "code",
        "outputId": "1eb01d08-9042-4575-8845-e375dcfc2f55",
        "colab": {
          "base_uri": "https://localhost:8080/",
          "height": 168
        }
      },
      "source": [
        "ada_clf = AdaBoostClassifier()\n",
        "ada_clf.fit(X_train, y_train)\n",
        "ada_prediction = ada_clf.predict(X_valid)\n",
        "print(classification_report(y_valid, ada_prediction))\n"
      ],
      "execution_count": 115,
      "outputs": [
        {
          "output_type": "stream",
          "text": [
            "              precision    recall  f1-score   support\n",
            "\n",
            "           0       0.82      0.82      0.82       112\n",
            "           1       0.70      0.70      0.70        67\n",
            "\n",
            "    accuracy                           0.78       179\n",
            "   macro avg       0.76      0.76      0.76       179\n",
            "weighted avg       0.78      0.78      0.78       179\n",
            "\n"
          ],
          "name": "stdout"
        }
      ]
    },
    {
      "cell_type": "markdown",
      "metadata": {
        "id": "esXgw7JsnfOJ",
        "colab_type": "text"
      },
      "source": [
        "### KNN Classifier"
      ]
    },
    {
      "cell_type": "code",
      "metadata": {
        "id": "3Mi5DoutnYGH",
        "colab_type": "code",
        "outputId": "310c7d22-83e0-417a-c549-32d9da36c355",
        "colab": {
          "base_uri": "https://localhost:8080/",
          "height": 168
        }
      },
      "source": [
        "knn_clf = KNeighborsClassifier(6)\n",
        "knn_clf.fit(X_train, y_train)\n",
        "knn_prediction = knn_clf.predict(X_valid)\n",
        "print(classification_report(y_valid, knn_prediction))\n"
      ],
      "execution_count": 116,
      "outputs": [
        {
          "output_type": "stream",
          "text": [
            "              precision    recall  f1-score   support\n",
            "\n",
            "           0       0.82      0.88      0.85       112\n",
            "           1       0.78      0.67      0.72        67\n",
            "\n",
            "    accuracy                           0.80       179\n",
            "   macro avg       0.80      0.78      0.78       179\n",
            "weighted avg       0.80      0.80      0.80       179\n",
            "\n"
          ],
          "name": "stdout"
        }
      ]
    },
    {
      "cell_type": "markdown",
      "metadata": {
        "id": "K1Cywz3YnibA",
        "colab_type": "text"
      },
      "source": [
        "### MLPC Classifier"
      ]
    },
    {
      "cell_type": "code",
      "metadata": {
        "id": "77SauqZWnqQS",
        "colab_type": "code",
        "outputId": "b52f424d-f302-4c2b-9d85-6a56b54de928",
        "colab": {
          "base_uri": "https://localhost:8080/",
          "height": 168
        }
      },
      "source": [
        "mlpc_clf = MLPClassifier(alpha=1, max_iter=5000)\n",
        "mlpc_clf.fit(X_train, y_train)\n",
        "mlpc_prediction = mlpc_clf.predict(X_valid)\n",
        "print(classification_report(y_valid, mlpc_prediction))\n"
      ],
      "execution_count": 117,
      "outputs": [
        {
          "output_type": "stream",
          "text": [
            "              precision    recall  f1-score   support\n",
            "\n",
            "           0       0.84      0.87      0.85       112\n",
            "           1       0.76      0.72      0.74        67\n",
            "\n",
            "    accuracy                           0.81       179\n",
            "   macro avg       0.80      0.79      0.79       179\n",
            "weighted avg       0.81      0.81      0.81       179\n",
            "\n"
          ],
          "name": "stdout"
        }
      ]
    },
    {
      "cell_type": "markdown",
      "metadata": {
        "id": "kdY58kJYnxCa",
        "colab_type": "text"
      },
      "source": [
        "### Gaussian Process Classifier"
      ]
    },
    {
      "cell_type": "code",
      "metadata": {
        "id": "uLe-JDZ4nzOR",
        "colab_type": "code",
        "outputId": "3fcbb5c8-3ffc-4732-9fb3-3b88fb1e4010",
        "colab": {
          "base_uri": "https://localhost:8080/",
          "height": 168
        }
      },
      "source": [
        "gp_clf = GaussianProcessClassifier(1.0 * RBF(1.0))\n",
        "gp_clf.fit(X_train, y_train)\n",
        "gp_prediction = gp_clf.predict(X_valid)\n",
        "print(classification_report(y_valid, gp_prediction))\n"
      ],
      "execution_count": 118,
      "outputs": [
        {
          "output_type": "stream",
          "text": [
            "              precision    recall  f1-score   support\n",
            "\n",
            "           0       0.84      0.86      0.85       112\n",
            "           1       0.75      0.73      0.74        67\n",
            "\n",
            "    accuracy                           0.81       179\n",
            "   macro avg       0.80      0.79      0.80       179\n",
            "weighted avg       0.81      0.81      0.81       179\n",
            "\n"
          ],
          "name": "stdout"
        }
      ]
    },
    {
      "cell_type": "markdown",
      "metadata": {
        "id": "dlXPzgsppxUp",
        "colab_type": "text"
      },
      "source": [
        "### Logistic Regression"
      ]
    },
    {
      "cell_type": "code",
      "metadata": {
        "id": "6Z-iaxrZpJAZ",
        "colab_type": "code",
        "outputId": "befec07a-357f-4faf-a69e-cee9866fe972",
        "colab": {
          "base_uri": "https://localhost:8080/",
          "height": 168
        }
      },
      "source": [
        "log_clf = LogisticRegressionCV(cv=5, max_iter=5000)\n",
        "log_clf.fit(X_train, y_train)\n",
        "log_prediction = log_clf.predict(X_valid)\n",
        "print(classification_report(y_valid, log_prediction))\n",
        "log_prediction_soft = log_clf.predict_proba(X_valid)\n"
      ],
      "execution_count": 119,
      "outputs": [
        {
          "output_type": "stream",
          "text": [
            "              precision    recall  f1-score   support\n",
            "\n",
            "           0       0.84      0.84      0.84       112\n",
            "           1       0.73      0.73      0.73        67\n",
            "\n",
            "    accuracy                           0.80       179\n",
            "   macro avg       0.79      0.79      0.79       179\n",
            "weighted avg       0.80      0.80      0.80       179\n",
            "\n"
          ],
          "name": "stdout"
        }
      ]
    },
    {
      "cell_type": "markdown",
      "metadata": {
        "id": "I_yKfdlXweaV",
        "colab_type": "text"
      },
      "source": [
        "### XGBoost Classifier"
      ]
    },
    {
      "cell_type": "code",
      "metadata": {
        "id": "d6uWbm-zsrva",
        "colab_type": "code",
        "outputId": "2628ee09-abbe-429a-f92a-3854edc04568",
        "colab": {
          "base_uri": "https://localhost:8080/",
          "height": 168
        }
      },
      "source": [
        "xg_clf = XGBClassifier()\n",
        "xg_clf.fit(X_train, y_train)\n",
        "xg_prediction = xg_clf.predict(X_valid)\n",
        "print(classification_report(y_valid, xg_prediction))\n"
      ],
      "execution_count": 120,
      "outputs": [
        {
          "output_type": "stream",
          "text": [
            "              precision    recall  f1-score   support\n",
            "\n",
            "           0       0.83      0.86      0.85       112\n",
            "           1       0.75      0.72      0.73        67\n",
            "\n",
            "    accuracy                           0.80       179\n",
            "   macro avg       0.79      0.79      0.79       179\n",
            "weighted avg       0.80      0.80      0.80       179\n",
            "\n"
          ],
          "name": "stdout"
        }
      ]
    },
    {
      "cell_type": "markdown",
      "metadata": {
        "id": "1fH4O3L0x0AK",
        "colab_type": "text"
      },
      "source": [
        "### Comparison"
      ]
    },
    {
      "cell_type": "code",
      "metadata": {
        "id": "loN_Dv-CwyW9",
        "colab_type": "code",
        "colab": {}
      },
      "source": [
        "models = [gnb_clf, knn_clf, log_clf, svc_clf, tree_clf, ada_clf, xg_clf, rf_clf, mlpc_clf, gp_clf]\n",
        "model_names = ['Gaussian NB', 'KNN', 'Logistic Reg', 'SVC', 'Decision Tree', 'Adaboost', 'XGBoost', \n",
        "              'Random Forest', 'MLPC', 'Gaussian Process']\n",
        "accuracies = [np.round(m.score(X_valid, y_valid), 2) for m in models]\n",
        "result_df = pd.DataFrame({'Model': model_names, \n",
        "                         'Accuracy': accuracies}).set_index('Model').sort_values('Accuracy', ascending=False)\n"
      ],
      "execution_count": 0,
      "outputs": []
    },
    {
      "cell_type": "code",
      "metadata": {
        "id": "5MVYwv9i0B1P",
        "colab_type": "code",
        "outputId": "73677fc6-1e38-493e-81e0-bb20269ff635",
        "colab": {
          "base_uri": "https://localhost:8080/",
          "height": 373
        }
      },
      "source": [
        "result_df"
      ],
      "execution_count": 122,
      "outputs": [
        {
          "output_type": "execute_result",
          "data": {
            "text/html": [
              "<div>\n",
              "<style scoped>\n",
              "    .dataframe tbody tr th:only-of-type {\n",
              "        vertical-align: middle;\n",
              "    }\n",
              "\n",
              "    .dataframe tbody tr th {\n",
              "        vertical-align: top;\n",
              "    }\n",
              "\n",
              "    .dataframe thead th {\n",
              "        text-align: right;\n",
              "    }\n",
              "</style>\n",
              "<table border=\"1\" class=\"dataframe\">\n",
              "  <thead>\n",
              "    <tr style=\"text-align: right;\">\n",
              "      <th></th>\n",
              "      <th>Accuracy</th>\n",
              "    </tr>\n",
              "    <tr>\n",
              "      <th>Model</th>\n",
              "      <th></th>\n",
              "    </tr>\n",
              "  </thead>\n",
              "  <tbody>\n",
              "    <tr>\n",
              "      <th>Random Forest</th>\n",
              "      <td>0.83</td>\n",
              "    </tr>\n",
              "    <tr>\n",
              "      <th>MLPC</th>\n",
              "      <td>0.81</td>\n",
              "    </tr>\n",
              "    <tr>\n",
              "      <th>Gaussian Process</th>\n",
              "      <td>0.81</td>\n",
              "    </tr>\n",
              "    <tr>\n",
              "      <th>KNN</th>\n",
              "      <td>0.80</td>\n",
              "    </tr>\n",
              "    <tr>\n",
              "      <th>Logistic Reg</th>\n",
              "      <td>0.80</td>\n",
              "    </tr>\n",
              "    <tr>\n",
              "      <th>SVC</th>\n",
              "      <td>0.80</td>\n",
              "    </tr>\n",
              "    <tr>\n",
              "      <th>XGBoost</th>\n",
              "      <td>0.80</td>\n",
              "    </tr>\n",
              "    <tr>\n",
              "      <th>Decision Tree</th>\n",
              "      <td>0.79</td>\n",
              "    </tr>\n",
              "    <tr>\n",
              "      <th>Adaboost</th>\n",
              "      <td>0.78</td>\n",
              "    </tr>\n",
              "    <tr>\n",
              "      <th>Gaussian NB</th>\n",
              "      <td>0.69</td>\n",
              "    </tr>\n",
              "  </tbody>\n",
              "</table>\n",
              "</div>"
            ],
            "text/plain": [
              "                  Accuracy\n",
              "Model                     \n",
              "Random Forest         0.83\n",
              "MLPC                  0.81\n",
              "Gaussian Process      0.81\n",
              "KNN                   0.80\n",
              "Logistic Reg          0.80\n",
              "SVC                   0.80\n",
              "XGBoost               0.80\n",
              "Decision Tree         0.79\n",
              "Adaboost              0.78\n",
              "Gaussian NB           0.69"
            ]
          },
          "metadata": {
            "tags": []
          },
          "execution_count": 122
        }
      ]
    },
    {
      "cell_type": "markdown",
      "metadata": {
        "id": "gDSJHoB7I2RR",
        "colab_type": "text"
      },
      "source": [
        "### Train Final Model"
      ]
    },
    {
      "cell_type": "markdown",
      "metadata": {
        "id": "DJVVyIYtTwKI",
        "colab_type": "text"
      },
      "source": [
        "I will train the final model with Random Forest Classifer based on previous model performance comparison"
      ]
    },
    {
      "cell_type": "markdown",
      "metadata": {
        "id": "t_vIQPZjUJK9",
        "colab_type": "text"
      },
      "source": [
        "Final model will be trained on full data"
      ]
    },
    {
      "cell_type": "code",
      "metadata": {
        "id": "VmPmOEu6I5lB",
        "colab_type": "code",
        "colab": {}
      },
      "source": [
        "final_model = RandomForestClassifier(max_depth=10, n_estimators=200).fit(X, y)"
      ],
      "execution_count": 0,
      "outputs": []
    },
    {
      "cell_type": "code",
      "metadata": {
        "id": "xI5e00XTKdG1",
        "colab_type": "code",
        "outputId": "417981f3-59ed-4e8b-8053-fa4925328a65",
        "colab": {
          "base_uri": "https://localhost:8080/",
          "height": 34
        }
      },
      "source": [
        "print(final_model.score(X_valid, y_valid))"
      ],
      "execution_count": 126,
      "outputs": [
        {
          "output_type": "stream",
          "text": [
            "0.9273743016759777\n"
          ],
          "name": "stdout"
        }
      ]
    },
    {
      "cell_type": "code",
      "metadata": {
        "id": "vviIf0jAsFWm",
        "colab_type": "code",
        "outputId": "642f7b59-734f-40a1-a26c-35baa6511554",
        "colab": {
          "base_uri": "https://localhost:8080/",
          "height": 34
        }
      },
      "source": [
        "print(final_model.score(X_train, y_train))"
      ],
      "execution_count": 127,
      "outputs": [
        {
          "output_type": "stream",
          "text": [
            "0.9325842696629213\n"
          ],
          "name": "stdout"
        }
      ]
    },
    {
      "cell_type": "markdown",
      "metadata": {
        "id": "AOpMB0ZE3zm3",
        "colab_type": "text"
      },
      "source": [
        "## Create Kaggle Submission file"
      ]
    },
    {
      "cell_type": "code",
      "metadata": {
        "id": "Ngakns5i1wpF",
        "colab_type": "code",
        "colab": {}
      },
      "source": [
        "test_ids = pd.read_csv('test.csv')['PassengerId']\n",
        "prediction = final_model.predict(test_data)\n",
        "submission = pd.DataFrame({'PassengerId': test_ids,\n",
        "                          'Survived': prediction})\n"
      ],
      "execution_count": 0,
      "outputs": []
    },
    {
      "cell_type": "code",
      "metadata": {
        "id": "8meMIth_4PCL",
        "colab_type": "code",
        "outputId": "3e7d44fe-a291-4f45-853a-14b6af06e694",
        "colab": {
          "base_uri": "https://localhost:8080/",
          "height": 195
        }
      },
      "source": [
        "submission.head()"
      ],
      "execution_count": 129,
      "outputs": [
        {
          "output_type": "execute_result",
          "data": {
            "text/html": [
              "<div>\n",
              "<style scoped>\n",
              "    .dataframe tbody tr th:only-of-type {\n",
              "        vertical-align: middle;\n",
              "    }\n",
              "\n",
              "    .dataframe tbody tr th {\n",
              "        vertical-align: top;\n",
              "    }\n",
              "\n",
              "    .dataframe thead th {\n",
              "        text-align: right;\n",
              "    }\n",
              "</style>\n",
              "<table border=\"1\" class=\"dataframe\">\n",
              "  <thead>\n",
              "    <tr style=\"text-align: right;\">\n",
              "      <th></th>\n",
              "      <th>PassengerId</th>\n",
              "      <th>Survived</th>\n",
              "    </tr>\n",
              "  </thead>\n",
              "  <tbody>\n",
              "    <tr>\n",
              "      <th>0</th>\n",
              "      <td>892</td>\n",
              "      <td>0</td>\n",
              "    </tr>\n",
              "    <tr>\n",
              "      <th>1</th>\n",
              "      <td>893</td>\n",
              "      <td>0</td>\n",
              "    </tr>\n",
              "    <tr>\n",
              "      <th>2</th>\n",
              "      <td>894</td>\n",
              "      <td>0</td>\n",
              "    </tr>\n",
              "    <tr>\n",
              "      <th>3</th>\n",
              "      <td>895</td>\n",
              "      <td>0</td>\n",
              "    </tr>\n",
              "    <tr>\n",
              "      <th>4</th>\n",
              "      <td>896</td>\n",
              "      <td>1</td>\n",
              "    </tr>\n",
              "  </tbody>\n",
              "</table>\n",
              "</div>"
            ],
            "text/plain": [
              "   PassengerId  Survived\n",
              "0          892         0\n",
              "1          893         0\n",
              "2          894         0\n",
              "3          895         0\n",
              "4          896         1"
            ]
          },
          "metadata": {
            "tags": []
          },
          "execution_count": 129
        }
      ]
    },
    {
      "cell_type": "code",
      "metadata": {
        "id": "JUeJw4Ny4QiU",
        "colab_type": "code",
        "colab": {}
      },
      "source": [
        "submission.to_csv('titanic_challenge_submission_vedant511.csv', index=False, header=True)\n"
      ],
      "execution_count": 0,
      "outputs": []
    },
    {
      "cell_type": "markdown",
      "metadata": {
        "id": "chRlSXF85t3o",
        "colab_type": "text"
      },
      "source": [
        "## Save and export the model"
      ]
    },
    {
      "cell_type": "code",
      "metadata": {
        "id": "Jxb6LrpB5tF9",
        "colab_type": "code",
        "outputId": "4e286206-8bad-4da8-f547-66edfa8a3579",
        "colab": {
          "base_uri": "https://localhost:8080/",
          "height": 34
        }
      },
      "source": [
        "from sklearn.externals import joblib\n",
        "\n",
        "joblib.dump(final_model, 'model.pkl')\n"
      ],
      "execution_count": 131,
      "outputs": [
        {
          "output_type": "execute_result",
          "data": {
            "text/plain": [
              "['model.pkl']"
            ]
          },
          "metadata": {
            "tags": []
          },
          "execution_count": 131
        }
      ]
    }
  ]
}